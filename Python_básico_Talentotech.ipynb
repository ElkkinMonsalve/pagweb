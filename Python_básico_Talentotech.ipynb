{
  "nbformat": 4,
  "nbformat_minor": 0,
  "metadata": {
    "colab": {
      "provenance": [],
      "include_colab_link": true
    },
    "kernelspec": {
      "name": "python3",
      "display_name": "Python 3"
    },
    "language_info": {
      "name": "python"
    }
  },
  "cells": [
    {
      "cell_type": "markdown",
      "metadata": {
        "id": "view-in-github",
        "colab_type": "text"
      },
      "source": [
        "<a href=\"https://colab.research.google.com/github/ElkkinMonsalve/pagweb/blob/main/Python_b%C3%A1sico_Talentotech.ipynb\" target=\"_parent\"><img src=\"https://colab.research.google.com/assets/colab-badge.svg\" alt=\"Open In Colab\"/></a>"
      ]
    },
    {
      "cell_type": "code",
      "execution_count": null,
      "metadata": {
        "id": "nRF5CvrmcTzb"
      },
      "outputs": [],
      "source": [
        "# PEP8:\n",
        "# Identación:\n",
        "  # Desde Acá inicia la identación"
      ]
    },
    {
      "cell_type": "markdown",
      "source": [
        "# Cuaderno de Python Inicial\n",
        "\n",
        "Python es un lenguaje de programación interpretado."
      ],
      "metadata": {
        "id": "ZK-eUtEme3Gm"
      }
    },
    {
      "cell_type": "code",
      "source": [
        "# Variables:\n",
        "# Se escriben con la notación snake_case\n",
        "total_venta = 876000.32\n",
        "cantidad = 65\n",
        "mensaje = \"Hola Mundo!\"\n",
        "booleano = True\n",
        "print(type(total_venta), type(cantidad), type(mensaje), type(booleano))\n"
      ],
      "metadata": {
        "colab": {
          "base_uri": "https://localhost:8080/"
        },
        "id": "4THNp7HJe_Bq",
        "outputId": "812ed750-2d01-41b1-f24d-ef2ab203f98e"
      },
      "execution_count": null,
      "outputs": [
        {
          "output_type": "stream",
          "name": "stdout",
          "text": [
            "<class 'float'> <class 'int'> <class 'str'> <class 'bool'>\n"
          ]
        }
      ]
    },
    {
      "cell_type": "code",
      "source": [
        "# Constantes:\n",
        "PI = 3.1416\n",
        "print(PI)\n",
        "DATABASE = 'https://pathurldatabase.com'\n",
        "DATABASE"
      ],
      "metadata": {
        "colab": {
          "base_uri": "https://localhost:8080/",
          "height": 53
        },
        "id": "fynh32SNhDZ1",
        "outputId": "c4a84789-988a-4162-a45b-1ded5432f632"
      },
      "execution_count": null,
      "outputs": [
        {
          "output_type": "stream",
          "name": "stdout",
          "text": [
            "3.1416\n"
          ]
        },
        {
          "output_type": "execute_result",
          "data": {
            "text/plain": [
              "'https://pathurldatabase.com'"
            ],
            "application/vnd.google.colaboratory.intrinsic+json": {
              "type": "string"
            }
          },
          "metadata": {},
          "execution_count": 9
        }
      ]
    },
    {
      "cell_type": "markdown",
      "source": [
        "# ESTRUCTURAS DE CONTROL\n",
        "### if\n",
        "### for while"
      ],
      "metadata": {
        "id": "z2djBWWphC-N"
      }
    },
    {
      "cell_type": "code",
      "source": [
        "# Condicionales:\n",
        "condicion = False                  # Variable que condicionará la sentencia if\n",
        "mensaje = ''                      # Variable en la que capturamos el resultado\n",
        "if (condicion):\n",
        "  # codigo a ejecutar si la condicion es verdadera\n",
        "  mensaje = \"Hola Estudiantes de Talento Tech\"\n",
        "else:\n",
        "  # codigo a ejecutar si la condicion es falsa\n",
        "  mensaje = \"Bienvenido Foraneo\"\n",
        "\n",
        "print(mensaje)"
      ],
      "metadata": {
        "colab": {
          "base_uri": "https://localhost:8080/"
        },
        "id": "ozxfRWLlifZ7",
        "outputId": "bffa46b2-62d4-43f5-e8fe-ea2a5fd4580e"
      },
      "execution_count": null,
      "outputs": [
        {
          "output_type": "stream",
          "name": "stdout",
          "text": [
            "Bienvenido Foraneo\n"
          ]
        }
      ]
    },
    {
      "cell_type": "code",
      "source": [
        "numero_condicion = 14\n",
        "resultado = ''\n",
        "if (numero_condicion < 5):\n",
        "  resultado = f'El numero es menor a 10, el numero es: {numero_condicion}'\n",
        "elif (numero_condicion > 10 and numero_condicion < 20):\n",
        "  resultado = f'El numero es mayor a 10, ya que el numero es {numero_condicion}'\n",
        "elif (numero_condicion == 10):\n",
        "  resultado = 'El numero es igual a 10'\n",
        "else:\n",
        "  resultado = 'El numero es mayor a 20'\n",
        "\n",
        "print(resultado)\n"
      ],
      "metadata": {
        "colab": {
          "base_uri": "https://localhost:8080/"
        },
        "id": "n2u0enG7jbcL",
        "outputId": "abd200bb-c444-458c-f62d-40c197583697"
      },
      "execution_count": null,
      "outputs": [
        {
          "output_type": "stream",
          "name": "stdout",
          "text": [
            "El numero es mayor a 10, ya que el numero es 14\n"
          ]
        }
      ]
    },
    {
      "cell_type": "markdown",
      "source": [
        "Ejercicio 29:\n",
        "Una fábrica ha sido sometida a un programa de control de contaminación para lo cual se efectúa una revisión de\n",
        "los puntos IMECA generados por la fábrica. El programa de control de contaminación consiste en medir los puntos\n",
        "IMECA que emite la fabrica en cinco días de una semana y si el promedio es superior a los 170 puntos entonces\n",
        "tendrá la sanción de parar su producción por una semana y una multa del 50% de las ganancias diarias cuando no\n",
        "se detiene la producción. Si el promedio obtenido de puntos IMECA es de 170 o menor entonces no tendrá ni\n",
        "sanción ni multa. El dueño de la fábrica desea saber cuanto dinero perderá después de ser sometido a la revisión"
      ],
      "metadata": {
        "id": "N555vISnlTt6"
      }
    },
    {
      "cell_type": "code",
      "source": [
        "imeca_lunes = int(input('Ingrese el valor de IMECA '))\n",
        "imeca_martes = int(input('Ingrese el valor de IMECA '))\n",
        "imeca_miercoles = int(input('Ingrese el valor de IMECA '))\n",
        "imeca_jueves = int(input('Ingrese el valor de IMECA '))\n",
        "imeca_viernes = int(input('Ingrese el valor de IMECA '))"
      ],
      "metadata": {
        "colab": {
          "base_uri": "https://localhost:8080/"
        },
        "id": "B3e3IQSui-Um",
        "outputId": "ea80f47f-0966-481a-f8ba-cb32a622a92d"
      },
      "execution_count": null,
      "outputs": [
        {
          "name": "stdout",
          "output_type": "stream",
          "text": [
            "Ingrese el valor de IMECA 190\n",
            "Ingrese el valor de IMECA 200\n",
            "Ingrese el valor de IMECA 600\n",
            "Ingrese el valor de IMECA 100\n",
            "Ingrese el valor de IMECA 90\n"
          ]
        }
      ]
    },
    {
      "cell_type": "code",
      "source": [
        "promedio_imeca = (imeca_lunes + imeca_martes + imeca_miercoles + imeca_jueves + imeca_viernes) / 5\n",
        "print(promedio_imeca)"
      ],
      "metadata": {
        "colab": {
          "base_uri": "https://localhost:8080/"
        },
        "id": "gKWoS6SxmfOg",
        "outputId": "cd007957-c79f-4925-cab7-ba2de3376264"
      },
      "execution_count": null,
      "outputs": [
        {
          "output_type": "stream",
          "name": "stdout",
          "text": [
            "236.0\n"
          ]
        }
      ]
    },
    {
      "cell_type": "code",
      "source": [
        "ganancia_lunes = float(input('Ingrese la ganancia del día: '))\n",
        "ganancia_martes = float(input('Ingrese la ganancia del día: '))\n",
        "ganancia_miercoles = float(input('Ingrese la ganancia del día: '))\n",
        "ganancia_jueves = float(input('Ingrese la ganancia del día: '))\n",
        "ganancia_viernes = float(input('Ingrese la ganancia del día: '))"
      ],
      "metadata": {
        "colab": {
          "base_uri": "https://localhost:8080/"
        },
        "id": "LL4_Gg1LmyK4",
        "outputId": "7ff2ebfc-2a9c-4ff5-9daa-c326242fbcd6"
      },
      "execution_count": null,
      "outputs": [
        {
          "name": "stdout",
          "output_type": "stream",
          "text": [
            "Ingrese la ganancia del día: 250\n",
            "Ingrese la ganancia del día: 300\n",
            "Ingrese la ganancia del día: 1200\n",
            "Ingrese la ganancia del día: 160\n",
            "Ingrese la ganancia del día: 100\n"
          ]
        }
      ]
    },
    {
      "cell_type": "code",
      "source": [
        "suma_ganancias = ganancia_lunes + ganancia_martes + ganancia_miercoles + ganancia_jueves + ganancia_viernes\n",
        "\n",
        "perdida = suma_ganancias * 0.5\n"
      ],
      "metadata": {
        "id": "-jx1ai9Cngk3"
      },
      "execution_count": null,
      "outputs": []
    },
    {
      "cell_type": "code",
      "source": [
        "if (promedio_imeca > 170):\n",
        "  mensaje = f'Por haber obtenido un promedio de {promedio_imeca} en la escala IMECA, ud será multado con una semana de no operación \\nmas el pago de ${perdida} dolares. \\nPor favor tener en cuenta las recomendaciones de la auditoría'\n",
        "else:\n",
        "  mensaje = f'Por haber obtenido un promedio de {promedio_imeca} en la escala IMECA, ud no será multado'\n",
        "print('----------------- Resultado Auditoría -----------------')"
      ],
      "metadata": {
        "colab": {
          "base_uri": "https://localhost:8080/"
        },
        "id": "6oOg2ZqPx35E",
        "outputId": "53ce16f2-4430-47db-cd21-d34f75a4e519"
      },
      "execution_count": null,
      "outputs": [
        {
          "output_type": "stream",
          "name": "stdout",
          "text": [
            "----------------- Resultado Auditoría -----------------\n"
          ]
        }
      ]
    },
    {
      "cell_type": "code",
      "source": [
        "print(mensaje)"
      ],
      "metadata": {
        "colab": {
          "base_uri": "https://localhost:8080/"
        },
        "id": "2Fesla9ZoFWR",
        "outputId": "753fb701-753f-4e00-ffb7-a5e829b66c6e"
      },
      "execution_count": null,
      "outputs": [
        {
          "output_type": "stream",
          "name": "stdout",
          "text": [
            "Por haber obtenido un promedio de 236.0 en la escala IMECA, ud será multado con una semana de no operación \n",
            "mas el pago de $1005.0 dolares. \n",
            "Por favor tener en cuenta las recomendaciones de la auditoría\n"
          ]
        }
      ]
    },
    {
      "cell_type": "markdown",
      "source": [
        "# For - While"
      ],
      "metadata": {
        "id": "-v06nAjf9-Bu"
      }
    },
    {
      "cell_type": "code",
      "source": [
        "x =  10                   # Iniciamos una variable con un número\n",
        "for i in range(x):        # usamos la sentencia for para hacer un barrido hasta la variable x\n",
        "  print(i)                # imprimimos cada iteración"
      ],
      "metadata": {
        "colab": {
          "base_uri": "https://localhost:8080/"
        },
        "id": "6Cr4r8zC-F2s",
        "outputId": "2646e2b4-56dd-4da6-ee7c-41901aefe7db"
      },
      "execution_count": null,
      "outputs": [
        {
          "output_type": "stream",
          "name": "stdout",
          "text": [
            "0\n",
            "1\n",
            "2\n",
            "3\n",
            "4\n",
            "5\n",
            "6\n",
            "7\n",
            "8\n",
            "9\n",
            "1\n",
            "3\n",
            "5\n",
            "7\n",
            "9\n"
          ]
        }
      ]
    },
    {
      "cell_type": "code",
      "source": [
        "for i in range(0, 11, 3):       # En este caso usamos la funcion range con el paso de parametros:\n",
        "  print(i)                      # range(inicio, termina, paso)\n",
        "\n",
        "# En este for lo que hacemos es indicarle al rango con que numero inicia hasta donde termina y cada cuanto itera"
      ],
      "metadata": {
        "colab": {
          "base_uri": "https://localhost:8080/"
        },
        "id": "p-T3fQJY-noV",
        "outputId": "89a4476e-2566-47dd-912d-2d499f72565b"
      },
      "execution_count": null,
      "outputs": [
        {
          "output_type": "stream",
          "name": "stdout",
          "text": [
            "0\n",
            "3\n",
            "6\n",
            "9\n"
          ]
        }
      ]
    },
    {
      "cell_type": "code",
      "source": [
        "bandera = 10\n",
        "while(bandera < 20):\n",
        "  print(bandera)\n",
        "  bandera += 1.5"
      ],
      "metadata": {
        "colab": {
          "base_uri": "https://localhost:8080/"
        },
        "id": "YtK1A2P__R-r",
        "outputId": "7080443c-6ccc-425f-f617-31cac41666ff"
      },
      "execution_count": null,
      "outputs": [
        {
          "output_type": "stream",
          "name": "stdout",
          "text": [
            "10\n",
            "13.5\n",
            "17.0\n"
          ]
        }
      ]
    },
    {
      "cell_type": "code",
      "source": [
        "texto = \"Este es un texto cualquiera\"\n",
        "total = 0\n",
        "for letra in texto:\n",
        "  if letra.lower() == \"e\":\n",
        "    total += 1\n",
        "    continue\n",
        "  print(letra)\n",
        "\n",
        "mensaje = f'Hemos encontrato un total de {total} de letras \"e\"'\n",
        "print(mensaje)"
      ],
      "metadata": {
        "colab": {
          "base_uri": "https://localhost:8080/"
        },
        "id": "Yo0rjI-O-6Gm",
        "outputId": "c3fdb920-3734-4dd0-d32b-d65ee7e90a4f"
      },
      "execution_count": null,
      "outputs": [
        {
          "output_type": "stream",
          "name": "stdout",
          "text": [
            "s\n",
            "t\n",
            " \n",
            "s\n",
            " \n",
            "u\n",
            "n\n",
            " \n",
            "t\n",
            "x\n",
            "t\n",
            "o\n",
            " \n",
            "c\n",
            "u\n",
            "a\n",
            "l\n",
            "q\n",
            "u\n",
            "i\n",
            "r\n",
            "a\n",
            "Hemos encontrato un total de 5 de letras \"e\"\n"
          ]
        }
      ]
    },
    {
      "cell_type": "code",
      "source": [
        "for letter in texto:\n",
        "  if letter == \"x\":\n",
        "    break\n",
        "  print(f'Hemos llegado hasta la letra {letter}')"
      ],
      "metadata": {
        "colab": {
          "base_uri": "https://localhost:8080/"
        },
        "id": "FlDdteVR52ll",
        "outputId": "13a3195a-3f91-4406-eba7-9d3c16807cb0"
      },
      "execution_count": null,
      "outputs": [
        {
          "output_type": "stream",
          "name": "stdout",
          "text": [
            "Hemos llegado hasta la letra E\n",
            "Hemos llegado hasta la letra s\n",
            "Hemos llegado hasta la letra t\n",
            "Hemos llegado hasta la letra e\n",
            "Hemos llegado hasta la letra  \n",
            "Hemos llegado hasta la letra e\n",
            "Hemos llegado hasta la letra s\n",
            "Hemos llegado hasta la letra  \n",
            "Hemos llegado hasta la letra u\n",
            "Hemos llegado hasta la letra n\n",
            "Hemos llegado hasta la letra  \n",
            "Hemos llegado hasta la letra t\n",
            "Hemos llegado hasta la letra e\n"
          ]
        }
      ]
    },
    {
      "cell_type": "code",
      "source": [
        "# Ejemplo de un login en python:\n",
        "usuario = 'eder@mail.com'\n",
        "contrasena = '123456'"
      ],
      "metadata": {
        "id": "k1iOfkuD62yZ"
      },
      "execution_count": null,
      "outputs": []
    },
    {
      "cell_type": "code",
      "source": [
        "while(True):\n",
        "  user = input('Ingrese su usuario: ')\n",
        "  if user == usuario:\n",
        "    passwd = input('Ingrese su contraseña: ')\n",
        "    if passwd == contrasena:\n",
        "      print('Bienvenido al sistema')\n",
        "      break\n",
        "    else:\n",
        "      print('Contraseña incorrecta')\n",
        "    continue\n",
        "  else:\n",
        "    print('Usuario incorrecto')"
      ],
      "metadata": {
        "colab": {
          "base_uri": "https://localhost:8080/"
        },
        "id": "SWp2rw8P7L3K",
        "outputId": "f566fb66-00a2-4640-9a06-2856e2201e07"
      },
      "execution_count": null,
      "outputs": [
        {
          "output_type": "stream",
          "name": "stdout",
          "text": [
            "Ingrese su usuario: Juan\n",
            "Usuario incorrecto\n",
            "Ingrese su usuario: juan\n",
            "Usuario incorrecto\n",
            "Ingrese su usuario: juan\n",
            "Usuario incorrecto\n",
            "Ingrese su usuario: juan\n",
            "Usuario incorrecto\n",
            "Ingrese su usuario: eder@mail.com\n",
            "Ingrese su contraseña: hola\n",
            "Contraseña incorrecta\n",
            "Ingrese su usuario: eder@mail.com\n",
            "Ingrese su contraseña: 123456\n",
            "Bienvenido al sistema\n"
          ]
        }
      ]
    },
    {
      "cell_type": "markdown",
      "source": [
        "## Estructuras de datos\n",
        "\n",
        "\n",
        "*   Listas\n",
        "*   Tuplas\n",
        "*   Conjuntos\n",
        "*   Diccionarios\n",
        "\n"
      ],
      "metadata": {
        "id": "Nnvig0Qe8pxJ"
      }
    },
    {
      "cell_type": "code",
      "source": [
        "lista = [\"Texto\", 87, 89.7, True, [1, 2, 3]]\n",
        "print(lista)"
      ],
      "metadata": {
        "colab": {
          "base_uri": "https://localhost:8080/"
        },
        "id": "Jp23_LBj87Fe",
        "outputId": "4cb1cb0b-9ec0-4c28-ccb1-2d733e2d2f14"
      },
      "execution_count": null,
      "outputs": [
        {
          "output_type": "stream",
          "name": "stdout",
          "text": [
            "['Texto', 87, 89.7, True, [1, 2, 3]]\n"
          ]
        }
      ]
    },
    {
      "cell_type": "code",
      "source": [
        "type(lista[4])"
      ],
      "metadata": {
        "colab": {
          "base_uri": "https://localhost:8080/"
        },
        "id": "j-U1Gdhc9qWO",
        "outputId": "bc1f592e-8361-4485-f92c-2085273a999f"
      },
      "execution_count": null,
      "outputs": [
        {
          "output_type": "execute_result",
          "data": {
            "text/plain": [
              "list"
            ]
          },
          "metadata": {},
          "execution_count": 18
        }
      ]
    },
    {
      "cell_type": "code",
      "source": [
        "for item in lista:\n",
        "  print(f'El elemento {item} es de tipo {type(item)}')\n",
        "  if type(item) == list:\n",
        "    for subitem in item:\n",
        "      print(f'El elemento {subitem} es de tipo {type(subitem)}')"
      ],
      "metadata": {
        "colab": {
          "base_uri": "https://localhost:8080/"
        },
        "id": "vGXkpbsu9fmF",
        "outputId": "78aa7965-8900-49cb-e441-08f96f3eb96c"
      },
      "execution_count": null,
      "outputs": [
        {
          "output_type": "stream",
          "name": "stdout",
          "text": [
            "El elemento Texto es de tipo <class 'str'>\n",
            "El elemento 87 es de tipo <class 'int'>\n",
            "El elemento 89.7 es de tipo <class 'float'>\n",
            "El elemento True es de tipo <class 'bool'>\n",
            "El elemento [1, 2, 3] es de tipo <class 'list'>\n",
            "El elemento 1 es de tipo <class 'int'>\n",
            "El elemento 2 es de tipo <class 'int'>\n",
            "El elemento 3 es de tipo <class 'int'>\n"
          ]
        }
      ]
    },
    {
      "cell_type": "code",
      "source": [
        "lista"
      ],
      "metadata": {
        "colab": {
          "base_uri": "https://localhost:8080/"
        },
        "id": "-vd6MYRt-2b2",
        "outputId": "9d20cb14-6ead-42a7-f52f-95ac5abe5ae5"
      },
      "execution_count": null,
      "outputs": [
        {
          "output_type": "execute_result",
          "data": {
            "text/plain": [
              "['Texto', 87, 89.7, True, [1, 2, 3]]"
            ]
          },
          "metadata": {},
          "execution_count": 44
        }
      ]
    },
    {
      "cell_type": "code",
      "source": [
        "# Métodos de listas:\n",
        "# Agregar elementos a la lista:\n",
        "lista.append('Nuevo elemento')\n",
        "print(lista)"
      ],
      "metadata": {
        "colab": {
          "base_uri": "https://localhost:8080/"
        },
        "id": "2P0iFQbh_M2j",
        "outputId": "ea9d61b4-743f-4736-ec77-d95807f8672d"
      },
      "execution_count": null,
      "outputs": [
        {
          "output_type": "stream",
          "name": "stdout",
          "text": [
            "['Texto', 87, 89.7, True, [1, 2, 3], 'Nuevo elemento', 'Nuevo elemento']\n"
          ]
        }
      ]
    },
    {
      "cell_type": "code",
      "source": [
        "# Eliminar el último elemento de la lista\n",
        "lista.pop()\n",
        "print(lista)"
      ],
      "metadata": {
        "colab": {
          "base_uri": "https://localhost:8080/"
        },
        "id": "cXuxku_aAGP1",
        "outputId": "8de80ccb-adc4-4045-deac-fef1582d10e9"
      },
      "execution_count": null,
      "outputs": [
        {
          "output_type": "stream",
          "name": "stdout",
          "text": [
            "['Texto', 87, 89.7, True, [1, 2, 3], 'Nuevo elemento']\n"
          ]
        }
      ]
    },
    {
      "cell_type": "code",
      "source": [
        "# Insertar elementos en una posición especifica:\n",
        "lista.insert(3,'Elemento Insertado')\n",
        "lista"
      ],
      "metadata": {
        "colab": {
          "base_uri": "https://localhost:8080/"
        },
        "id": "G0tvqJp1AfDt",
        "outputId": "a26e23e3-6fd7-4062-c910-93015b604301"
      },
      "execution_count": null,
      "outputs": [
        {
          "output_type": "execute_result",
          "data": {
            "text/plain": [
              "['Texto', 87, 89.7, 'Elemento Insertado', True, [1, 2, 3], 'Nuevo elemento']"
            ]
          },
          "metadata": {},
          "execution_count": 53
        }
      ]
    },
    {
      "cell_type": "code",
      "source": [
        "lista.pop(3)"
      ],
      "metadata": {
        "colab": {
          "base_uri": "https://localhost:8080/",
          "height": 35
        },
        "id": "bupSXSoIA1IO",
        "outputId": "07206b6d-6104-4845-c92d-653f061c8525"
      },
      "execution_count": null,
      "outputs": [
        {
          "output_type": "execute_result",
          "data": {
            "text/plain": [
              "'Elemento Insertado'"
            ],
            "application/vnd.google.colaboratory.intrinsic+json": {
              "type": "string"
            }
          },
          "metadata": {},
          "execution_count": 54
        }
      ]
    },
    {
      "cell_type": "markdown",
      "source": [
        "Taller\n",
        "Crear elementos para almacenar máximo 5 datos de un formulario de registro que tenga nombres, apellidos, correos, contraseñas:\n"
      ],
      "metadata": {
        "id": "Tx2AN3uqBHPb"
      }
    },
    {
      "cell_type": "code",
      "source": [
        "# Solución:\n",
        "nombres = []\n",
        "apellidos = []\n",
        "correos = []\n",
        "contrasenas = []\n",
        "\n",
        "while(True):\n",
        "  nombre = input('Ingrese su nombre: ')\n",
        "  nombres.append(nombre)\n",
        "  apellido = input('Ingrese su Apellido: ')\n",
        "  apellidos.append(apellido)\n",
        "  correo = input('Ingrese su correo: ')\n",
        "  correos.append(correo)\n",
        "  contrasena = input('Ingrese su contraseña: ')\n",
        "  contrasenas.append(contrasena)\n",
        "\n",
        "  if len(nombres) == 5 and len(apellidos) == 5 and len(correos) == 5 and len(contrasenas) == 5:\n",
        "    break\n",
        "  else:\n",
        "    continue\n",
        "\n",
        "\n"
      ],
      "metadata": {
        "colab": {
          "base_uri": "https://localhost:8080/"
        },
        "id": "9QQiltmQBGaI",
        "outputId": "ec2c806c-7528-4ca4-e321-e6a330d10af1"
      },
      "execution_count": null,
      "outputs": [
        {
          "name": "stdout",
          "output_type": "stream",
          "text": [
            "Ingrese su nombre: Eder\n",
            "Ingrese su Apellido: Lara\n",
            "Ingrese su correo: eder@mail.com\n",
            "Ingrese su contraseña: 12345\n",
            "Ingrese su nombre: Juan\n",
            "Ingrese su Apellido: Morales\n",
            "Ingrese su correo: juan@mail.com\n",
            "Ingrese su contraseña: 12345\n",
            "Ingrese su nombre: Diana\n",
            "Ingrese su Apellido: Martinez\n",
            "Ingrese su correo: diana@12345\n",
            "Ingrese su contraseña: 12345\n",
            "Ingrese su nombre: Helen\n",
            "Ingrese su Apellido: Lara\n",
            "Ingrese su correo: helen@mail.com\n",
            "Ingrese su contraseña: 12345\n",
            "Ingrese su nombre: Tania\n",
            "Ingrese su Apellido: Rodriguez\n",
            "Ingrese su correo: tata@mail.com\n",
            "Ingrese su contraseña: 12345\n"
          ]
        }
      ]
    },
    {
      "cell_type": "code",
      "source": [
        "# Operando con datos en la lista:\n",
        "indice_nombre = 0\n",
        "indice_correo = 0\n",
        "indice_pass = 0\n",
        "for nombre in nombres:\n",
        "  indice_nombre +=1\n",
        "  print(f'El nombre {nombre} se encuentra en el posicion {indice_nombre}')\n",
        "\n",
        "for correo in correos:\n",
        "  indice_correo +=1\n",
        "  print(f'El correo {correo} se encuentra en el posicion {indice_correo}')\n",
        "  print(correo)\n",
        "\n",
        "for contrasena in contrasenas:\n",
        "  indice_pass +=1\n",
        "  print(f'La contraseña {contrasena} se encuentra en el posicion {indice_pass}')\n",
        "  print(contrasena)"
      ],
      "metadata": {
        "colab": {
          "base_uri": "https://localhost:8080/"
        },
        "id": "G43qoFRuH0Rh",
        "outputId": "bebee42b-9863-47ab-d334-9d8a3bc6a856"
      },
      "execution_count": null,
      "outputs": [
        {
          "output_type": "stream",
          "name": "stdout",
          "text": [
            "El nombre Eder se encuentra en el posicion 1\n",
            "El nombre Juan se encuentra en el posicion 2\n",
            "El nombre Diana se encuentra en el posicion 3\n",
            "El nombre Helen se encuentra en el posicion 4\n",
            "El nombre Tania se encuentra en el posicion 5\n",
            "El correo eder@mail.com se encuentra en el posicion 1\n",
            "eder@mail.com\n",
            "El correo juan@mail.com se encuentra en el posicion 2\n",
            "juan@mail.com\n",
            "El correo diana@12345 se encuentra en el posicion 3\n",
            "diana@12345\n",
            "El correo helen@mail.com se encuentra en el posicion 4\n",
            "helen@mail.com\n",
            "El correo tata@mail.com se encuentra en el posicion 5\n",
            "tata@mail.com\n",
            "La contraseña 12345 se encuentra en el posicion 1\n",
            "12345\n",
            "La contraseña 12345 se encuentra en el posicion 2\n",
            "12345\n",
            "La contraseña 12345 se encuentra en el posicion 3\n",
            "12345\n",
            "La contraseña 12345 se encuentra en el posicion 4\n",
            "12345\n",
            "La contraseña 12345 se encuentra en el posicion 5\n",
            "12345\n"
          ]
        }
      ]
    },
    {
      "cell_type": "code",
      "source": [
        "index_correo = 0\n",
        "index_pass = 0\n",
        "\n",
        "while(True):\n",
        "  email = input('Ingrese su correo Electrónico')\n",
        "  if email in correos:\n",
        "    index_correo = correos.index(email)\n",
        "    print('Correo Encontrado')\n",
        "    passuser = input('Ingrese su contraseña')\n",
        "    if passuser in contrasenas:\n",
        "      index_pass = contrasenas.index(passuser)\n",
        "      if index_correo == index_pass:\n",
        "        print('Bienvenido al sistema')\n",
        "        break\n",
        "      else:\n",
        "        print('Contraseña Incorrecta')\n"
      ],
      "metadata": {
        "colab": {
          "base_uri": "https://localhost:8080/"
        },
        "id": "EGkEaeSiJ8nJ",
        "outputId": "58a028e3-9ab9-4f1d-b8c1-908763b79543"
      },
      "execution_count": null,
      "outputs": [
        {
          "output_type": "stream",
          "name": "stdout",
          "text": [
            "Ingrese su correo Electrónicoeder@mail.com\n",
            "Correo Encontrado\n",
            "Ingrese su contraseña123456\n",
            "Ingrese su correo Electrónicoeder@mail.com\n",
            "Correo Encontrado\n",
            "Ingrese su contraseña12345\n",
            "Bienvenido al sistema\n"
          ]
        }
      ]
    },
    {
      "cell_type": "code",
      "source": [
        "from random import random, randint        # Importamos la libreria de aleatorios:\n",
        "\n",
        "limite = 50                               # Definimos cual es el limite que tendrá el vector\n",
        "vector = []                               # Creamos una variable tipo lista vacia\n",
        "\n",
        "for i in range(limite):\n",
        "  vector.append(randint(10,300))          # Recorremos hasta llegar a los 50 elementos y\n",
        "                                          # C/U será agregado al vector.\n",
        "\n",
        "\n",
        "print(vector)\n",
        "total = sum(vector)\n",
        "print(f'La suma del vector es: {total} con {len(vector)} elementos')\n",
        "promedio = total / len(vector)\n",
        "print(f'El promedio del vector es: {promedio}')\n",
        "\n",
        "mayor_promedio = 0\n",
        "lista_elementos_mayor_promedio = []\n",
        "\n",
        "for elemento in vector:                               # Recorremos el vector para validar\n",
        "  if elemento > promedio:                             # cuales elementos son mas grandes que el promedio\n",
        "    lista_elementos_mayor_promedio.append(elemento)\n",
        "    mayor_promedio += 1                               # Contamos y agregamos al contador\n",
        "\n",
        "print(f'La cantidad de elementos mayores al promedio son: {mayor_promedio}')\n",
        "print(f'Los elementos mayores al promedio son: {lista_elementos_mayor_promedio}')"
      ],
      "metadata": {
        "colab": {
          "base_uri": "https://localhost:8080/"
        },
        "id": "cnKaPkypM0Y6",
        "outputId": "94926c15-e4c1-4cd0-f90c-409992777526"
      },
      "execution_count": null,
      "outputs": [
        {
          "output_type": "stream",
          "name": "stdout",
          "text": [
            "[207, 73, 92, 64, 297, 149, 36, 177, 106, 153, 114, 137, 150, 268, 259, 86, 160, 155, 54, 123, 291, 89, 117, 286, 13, 150, 135, 164, 226, 76, 226, 229, 20, 223, 211, 177, 261, 39, 295, 90, 239, 272, 296, 53, 173, 154, 34, 96, 232, 186]\n",
            "La suma del vector es: 7913 con 50 elementos\n",
            "El promedio del vector es: 158.26\n",
            "La cantidad de elementos mayores al promedio son: 23\n",
            "Los elementos mayores al promedio son: [207, 297, 177, 268, 259, 160, 291, 286, 164, 226, 226, 229, 223, 211, 177, 261, 295, 239, 272, 296, 173, 232, 186]\n"
          ]
        }
      ]
    },
    {
      "cell_type": "code",
      "source": [
        "from random import random, randint\n",
        "\n",
        "val= randint(10,300)\n",
        "print(val)"
      ],
      "metadata": {
        "colab": {
          "base_uri": "https://localhost:8080/"
        },
        "id": "a9mGwRkvM6AI",
        "outputId": "bcf80569-304c-4efd-989c-7d89af9a22ca"
      },
      "execution_count": null,
      "outputs": [
        {
          "output_type": "stream",
          "name": "stdout",
          "text": [
            "290\n"
          ]
        }
      ]
    },
    {
      "cell_type": "markdown",
      "source": [
        "Llenar dos vectores A y B de 45 elementos cada uno, sumar el elemento uno del vector A con el elemento uno del\n",
        "vector B y así sucesivamente hasta 45, almacenar el resultado en un vector C, e imprimir el vector resultante."
      ],
      "metadata": {
        "id": "ubyMnD5DT7we"
      }
    },
    {
      "cell_type": "code",
      "source": [
        "a = []                                        # Creamos el lista a\n",
        "b = []                                        # Creamos el lista b\n",
        "\n",
        "limit = 45                                    # Marcamos el limite de los elementos de cada lista\n",
        "\n",
        "for iteracion in range(limit):                # Con for, llenamos los elementos de cada lista\n",
        "  a.append(randint(10,20))\n",
        "  b.append(randint(30,40))\n",
        "\n",
        "print(a)                                      # Imprimimos la lista a\n",
        "print(b)                                      # Imprimimos la lista b"
      ],
      "metadata": {
        "colab": {
          "base_uri": "https://localhost:8080/"
        },
        "id": "gWKe6vbkROEw",
        "outputId": "7f7a39e1-a74f-45ee-bc3b-2e1e1a3f96ad"
      },
      "execution_count": null,
      "outputs": [
        {
          "output_type": "stream",
          "name": "stdout",
          "text": [
            "[15, 11, 17, 20, 18, 18, 17, 13, 17, 20, 17, 16, 11, 15, 13, 15, 20, 14, 12, 19, 17, 12, 12, 16, 12, 20, 10, 16, 11, 16, 20, 15, 20, 14, 13, 16, 17, 11, 12, 17, 15, 18, 15, 15, 12]\n",
            "[30, 30, 40, 36, 40, 31, 33, 34, 34, 38, 32, 32, 37, 37, 35, 36, 39, 31, 34, 33, 34, 37, 36, 33, 39, 37, 36, 34, 32, 39, 35, 35, 35, 38, 35, 31, 37, 35, 40, 31, 32, 35, 30, 34, 39]\n"
          ]
        }
      ]
    },
    {
      "cell_type": "code",
      "source": [
        "resultado = []                                # Creamos una lista vacia con los resultados\n",
        "for i, j in zip(a, b):\n",
        "  print(f'sumaremos el elemento {i} y el elemento {j}')\n",
        "  resultado.append(i + j)                     # agregamos a la lista el resultado de la lista\n",
        "\n",
        "print(resultado)"
      ],
      "metadata": {
        "colab": {
          "base_uri": "https://localhost:8080/"
        },
        "id": "9pprDHdJTW7y",
        "outputId": "9ef446a3-9109-4c0a-e552-998faab7b508"
      },
      "execution_count": null,
      "outputs": [
        {
          "output_type": "stream",
          "name": "stdout",
          "text": [
            "sumaremos el elemento 15 y el elemento 30\n",
            "sumaremos el elemento 11 y el elemento 30\n",
            "sumaremos el elemento 17 y el elemento 40\n",
            "sumaremos el elemento 20 y el elemento 36\n",
            "sumaremos el elemento 18 y el elemento 40\n",
            "sumaremos el elemento 18 y el elemento 31\n",
            "sumaremos el elemento 17 y el elemento 33\n",
            "sumaremos el elemento 13 y el elemento 34\n",
            "sumaremos el elemento 17 y el elemento 34\n",
            "sumaremos el elemento 20 y el elemento 38\n",
            "sumaremos el elemento 17 y el elemento 32\n",
            "sumaremos el elemento 16 y el elemento 32\n",
            "sumaremos el elemento 11 y el elemento 37\n",
            "sumaremos el elemento 15 y el elemento 37\n",
            "sumaremos el elemento 13 y el elemento 35\n",
            "sumaremos el elemento 15 y el elemento 36\n",
            "sumaremos el elemento 20 y el elemento 39\n",
            "sumaremos el elemento 14 y el elemento 31\n",
            "sumaremos el elemento 12 y el elemento 34\n",
            "sumaremos el elemento 19 y el elemento 33\n",
            "sumaremos el elemento 17 y el elemento 34\n",
            "sumaremos el elemento 12 y el elemento 37\n",
            "sumaremos el elemento 12 y el elemento 36\n",
            "sumaremos el elemento 16 y el elemento 33\n",
            "sumaremos el elemento 12 y el elemento 39\n",
            "sumaremos el elemento 20 y el elemento 37\n",
            "sumaremos el elemento 10 y el elemento 36\n",
            "sumaremos el elemento 16 y el elemento 34\n",
            "sumaremos el elemento 11 y el elemento 32\n",
            "sumaremos el elemento 16 y el elemento 39\n",
            "sumaremos el elemento 20 y el elemento 35\n",
            "sumaremos el elemento 15 y el elemento 35\n",
            "sumaremos el elemento 20 y el elemento 35\n",
            "sumaremos el elemento 14 y el elemento 38\n",
            "sumaremos el elemento 13 y el elemento 35\n",
            "sumaremos el elemento 16 y el elemento 31\n",
            "sumaremos el elemento 17 y el elemento 37\n",
            "sumaremos el elemento 11 y el elemento 35\n",
            "sumaremos el elemento 12 y el elemento 40\n",
            "sumaremos el elemento 17 y el elemento 31\n",
            "sumaremos el elemento 15 y el elemento 32\n",
            "sumaremos el elemento 18 y el elemento 35\n",
            "sumaremos el elemento 15 y el elemento 30\n",
            "sumaremos el elemento 15 y el elemento 34\n",
            "sumaremos el elemento 12 y el elemento 39\n",
            "[45, 41, 57, 56, 58, 49, 50, 47, 51, 58, 49, 48, 48, 52, 48, 51, 59, 45, 46, 52, 51, 49, 48, 49, 51, 57, 46, 50, 43, 55, 55, 50, 55, 52, 48, 47, 54, 46, 52, 48, 47, 53, 45, 49, 51]\n"
          ]
        }
      ]
    },
    {
      "cell_type": "markdown",
      "source": [
        "G, PG, PG-13, R y NC-17 son clasificaciones de películas que se utilizan en Estados Unidos. Estas clasificaciones son establecidas por la Motion Picture Association of America (MPAA).\n",
        "G (General Audiences) Apta para todas las edades, Para el público en general.\n",
        "PG (Parental Guidance Suggested) Se recomienda supervisión de los padres, Contiene material no apropiado para niños.\n",
        "PG-13 (Parents Strongly Cautioned)\n",
        "Se recomienda supervisión de los padres para niños menores de 13 años\n",
        "Contiene material no apropiado para menores de 13 años\n",
        "R (Restricted)\n",
        "Restringida\n",
        "Los menores de 17 años deben estar acompañados por un padre o tutor adulto\n",
        "NC-17 (Adults Only)\n",
        "Nadie de 17 años o menos admitido\n",
        "Se asigna a películas que la MPA cree que la mayoría de los padres considerarían \"evidentemente para adultos\"\n",
        "El objetivo de estas clasificaciones es informar a los padres sobre el nivel de contenido específico de las películas."
      ],
      "metadata": {
        "id": "Y2ISpUesv4zN"
      }
    },
    {
      "cell_type": "code",
      "source": [
        "nombre_peliculas = ['ACADEMY DINOSAUR','ACE GOLDFINGER','ADAPTATION HOLES','AFFAIR PREJUDICE','AFRICAN EGG','AGENT TRUMAN','AIRPLANE SIERRA','AIRPORT POLLOCK','ALABAMA DEVIL','ALADDIN CALENDAR','ALAMO VIDEOTAPE','ALASKA PHANTOM','ALI FOREVER','ALICE FANTASIA','ALIEN CENTER','ALLEY EVOLUTION','ALONE TRIP','ALTER VICTORY','AMADEUS HOLY','AMELIE HELLFIGHTERS','AMERICAN CIRCUS','AMISTAD MIDSUMMER','ANACONDA CONFESSIONS','ANALYZE HOOSIERS','ANGELS LIFE','ANNIE IDENTITY','ANONYMOUS HUMAN','ANTHEM LUKE','ANTITRUST TOMATOES','ANYTHING SAVANNAH','APACHE DIVINE','APOCALYPSE FLAMINGOS','APOLLO TEEN','ARABIA DOGMA','ARACHNOPHOBIA ROLLERCOASTER','ARGONAUTS TOWN','ARIZONA BANG','ARK RIDGEMONT','ARMAGEDDON LOST','ARMY FLINTSTONES','ARSENIC INDEPENDENCE','ARTIST COLDBLOODED','ATLANTIS CAUSE','ATTACKS HATE','ATTRACTION NEWTON','AUTUMN CROW','BABY HALL','BACKLASH UNDEFEATED','BADMAN DAWN','BAKED CLEOPATRA','BALLOON HOMEWARD','BALLROOM MOCKINGBIRD','BANG KWAI','BANGER PINOCCHIO','BARBARELLA STREETCAR','BAREFOOT MANCHURIAN','BASIC EASY','BEACH HEARTBREAKERS','BEAR GRACELAND','BEAST HUNCHBACK','BEAUTY GREASE','BED HIGHBALL','BEDAZZLED MARRIED','BEETHOVEN EXORCIST','BEHAVIOR RUNAWAY','BENEATH RUSH','BERETS AGENT','BETRAYED REAR','BEVERLY OUTLAW','BIKINI BORROWERS','BILKO ANONYMOUS','BILL OTHERS','BINGO TALENTED','BIRCH ANTITRUST','BIRD INDEPENDENCE','BIRDCAGE CASPER','BIRDS PERDITION','BLACKOUT PRIVATE','BLADE POLISH','BLANKET BEVERLY','BLINDNESS GUN','BLOOD ARGONAUTS','BLUES INSTINCT','BOILED DARES','BONNIE HOLOCAUST','BOOGIE AMELIE','BOONDOCK BALLROOM','BORN SPINAL','BORROWERS BEDAZZLED','BOULEVARD MOB','BOUND CHEAPER','BOWFINGER GABLES','BRANNIGAN SUNRISE','BRAVEHEART HUMAN','BREAKFAST GOLDFINGER','BREAKING HOME','BRIDE INTRIGUE','BRIGHT ENCOUNTERS','BRINGING HYSTERICAL','BROOKLYN DESERT','BROTHERHOOD BLANKET','BUBBLE GROSSE','BUCKET BROTHERHOOD','BUGSY SONG','BULL SHAWSHANK','BULWORTH COMMANDMENTS','BUNCH MINDS','BUTCH PANTHER','BUTTERFLY CHOCOLAT','CABIN FLASH','CADDYSHACK JEDI','CALENDAR GUNFIGHT','CALIFORNIA BIRDS','CAMELOT VACATION','CAMPUS REMEMBER','CANDIDATE PERDITION','CANDLES GRAPES','CANYON STOCK','CAPER MOTIONS','CARIBBEAN LIBERTY','CAROL TEXAS','CARRIE BUNCH','CASABLANCA SUPER','CASPER DRAGONFLY','CASSIDY WYOMING','CASUALTIES ENCINO','CAT CONEHEADS','CATCH AMISTAD','CAUSE DATE','CELEBRITY HORN','CENTER DINOSAUR','CHAINSAW UPTOWN','CHAMBER ITALIAN','CHAMPION FLATLINERS','CHANCE RESURRECTION','CHAPLIN LICENSE','CHARADE DUFFEL','CHARIOTS CONSPIRACY','CHASING FIGHT','CHEAPER CLYDE','CHICAGO NORTH','CHICKEN HELLFIGHTERS','CHILL LUCK','CHINATOWN GLADIATOR','CHISUM BEHAVIOR','CHITTY LOCK','CHOCOLAT HARRY','CHOCOLATE DUCK','CHRISTMAS MOONSHINE','CIDER DESIRE','CINCINATTI WHISPERER','CIRCUS YOUTH','CITIZEN SHREK','CLASH FREDDY','CLEOPATRA DEVIL','CLERKS ANGELS','CLOCKWORK PARADISE','CLONES PINOCCHIO','CLOSER BANG','CLUB GRAFFITI','CLUE GRAIL','CLUELESS BUCKET','CLYDE THEORY','COAST RAINBOW','COLDBLOODED DARLING','COLOR PHILADELPHIA','COMA HEAD','COMANCHEROS ENEMY','COMFORTS RUSH','COMMAND DARLING','COMMANDMENTS EXPRESS','CONEHEADS SMOOCHY','CONFESSIONS MAGUIRE','CONFIDENTIAL INTERVIEW','CONFUSED CANDLES','CONGENIALITY QUEST','CONNECTICUT TRAMP','CONNECTION MICROCOSMOS','CONQUERER NUTS','CONSPIRACY SPIRIT','CONTACT ANONYMOUS','CONTROL ANTHEM','CONVERSATION DOWNHILL','CORE SUIT','COWBOY DOOM','CRAFT OUTFIELD','CRANES RESERVOIR','CRAZY HOME','CREATURES SHAKESPEARE','CREEPERS KANE','CROOKED FROGMEN','CROSSING DIVORCE','CROSSROADS CASUALTIES','CROW GREASE','CROWDS TELEMARK','CRUELTY UNFORGIVEN','CRUSADE HONEY','CRYSTAL BREAKING','CUPBOARD SINNERS','CURTAIN VIDEOTAPE','CYCLONE FAMILY','DADDY PITTSBURGH','DAISY MENAGERIE','DALMATIONS SWEDEN','DANCES NONE','DANCING FEVER','DANGEROUS UPTOWN','DARES PLUTO','DARKNESS WAR','DARKO DORADO','DARLING BREAKING','DARN FORRESTER','DATE SPEED','DAUGHTER MADIGAN','DAWN POND','DAY UNFAITHFUL','DAZED PUNK','DECEIVER BETRAYED','DEEP CRUSADE','DEER VIRGINIAN','DELIVERANCE MULHOLLAND','DESERT POSEIDON','DESIRE ALIEN','DESPERATE TRAINSPOTTING','DESTINATION JERK','DESTINY SATURDAY','DETAILS PACKER','DETECTIVE VISION','DEVIL DESIRE','DIARY PANIC','DINOSAUR SECRETARY','DIRTY ACE','DISCIPLE MOTHER','DISTURBING SCARFACE','DIVIDE MONSTER','DIVINE RESURRECTION','DIVORCE SHINING','DOCTOR GRAIL','DOGMA FAMILY','DOLLS RAGE','DONNIE ALLEY','DOOM DANCING','DOORS PRESIDENT','DORADO NOTTING','DOUBLE WRATH','DOUBTFIRE LABYRINTH','DOWNHILL ENOUGH','DOZEN LION','DRACULA CRYSTAL','DRAGON SQUAD','DRAGONFLY STRANGERS','DREAM PICKUP','DRIFTER COMMANDMENTS','DRIVER ANNIE','DRIVING POLISH','DROP WATERFRONT','DRUMLINE CYCLONE','DRUMS DYNAMITE','DUCK RACER','DUDE BLINDNESS','DUFFEL APOCALYPSE','DUMBO LUST','DURHAM PANKY','DWARFS ALTER','DYING MAKER','DYNAMITE TARZAN','EAGLES PANKY','EARLY HOME','EARRING INSTINCT','EARTH VISION','EASY GLADIATOR','EDGE KISSING','EFFECT GLADIATOR','EGG IGBY','EGYPT TENENBAUMS','ELEMENT FREDDY','ELEPHANT TROJAN','ELF MURDER','ELIZABETH SHANE','EMPIRE MALKOVICH','ENCINO ELF','ENCOUNTERS CURTAIN','ENDING CROWDS','ENEMY ODDS','ENGLISH BULWORTH','ENOUGH RAGING','ENTRAPMENT SATISFACTION','ESCAPE METROPOLIS','EVE RESURRECTION','EVERYONE CRAFT','EVOLUTION ALTER','EXCITEMENT EVE','EXORCIST STING','EXPECATIONS NATURAL','EXPENDABLE STALLION','EXPRESS LONELY','EXTRAORDINARY CONQUERER','EYES DRIVING','FACTORY DRAGON','FALCON VOLUME','FAMILY SWEET','FANTASIA PARK','FANTASY TROOPERS','FARGO GANDHI','FATAL HAUNTED','FEATHERS METAL','FELLOWSHIP AUTUMN','FERRIS MOTHER','FEUD FROGMEN','FEVER EMPIRE','FICTION CHRISTMAS','FIDDLER LOST','FIDELITY DEVIL','FIGHT JAWBREAKER','FINDING ANACONDA','FIRE WOLVES','FIREBALL PHILADELPHIA','FIREHOUSE VIETNAM','FISH OPUS','FLAMINGOS CONNECTICUT','FLASH WARS','FLATLINERS KILLER','FLIGHT LIES','FLINTSTONES HAPPINESS','FLOATS GARDEN','FLYING HOOK','FOOL MOCKINGBIRD','FOREVER CANDIDATE','FORREST SONS','FORRESTER COMANCHEROS','FORWARD TEMPLE','FRANKENSTEIN STRANGER','FREAKY POCUS','FREDDY STORM','FREEDOM CLEOPATRA','FRENCH HOLIDAY','FRIDA SLIPPER','FRISCO FORREST','FROGMEN BREAKING','FRONTIER CABIN','FROST HEAD','FUGITIVE MAGUIRE','FULL FLATLINERS','FURY MURDER','GABLES METROPOLIS','GALAXY SWEETHEARTS','GAMES BOWFINGER','GANDHI KWAI','GANGS PRIDE','GARDEN ISLAND','GASLIGHT CRUSADE','GATHERING CALENDAR','GENTLEMEN STAGE','GHOST GROUNDHOG','GHOSTBUSTERS ELF','GIANT TROOPERS','GILBERT PELICAN','GILMORE BOILED','GLADIATOR WESTWARD','GLASS DYING','GLEAMING JAWBREAKER','GLORY TRACY','GO PURPLE','GODFATHER DIARY','GOLD RIVER','GOLDFINGER SENSIBILITY','GOLDMINE TYCOON','GONE TROUBLE','GOODFELLAS SALUTE','GORGEOUS BINGO','GOSFORD DONNIE','GRACELAND DYNAMITE','GRADUATE LORD','GRAFFITI LOVE','GRAIL FRANKENSTEIN','GRAPES FURY','GREASE YOUTH','GREATEST NORTH','GREEDY ROOTS','GREEK EVERYONE','GRINCH MASSAGE','GRIT CLOCKWORK','GROOVE FICTION','GROSSE WONDERFUL','GROUNDHOG UNCUT','GUMP DATE','GUN BONNIE','GUNFIGHT MOON','GUNFIGHTER MUSSOLINI','GUYS FALCON','HALF OUTFIELD','HALL CASSIDY','HALLOWEEN NUTS','HAMLET WISDOM','HANDICAP BOONDOCK','HANGING DEEP','HANKY OCTOBER','HANOVER GALAXY','HAPPINESS UNITED','HARDLY ROBBERS','HAROLD FRENCH','HARPER DYING','HARRY IDAHO','HATE HANDICAP','HAUNTED ANTITRUST','HAUNTING PIANIST','HAWK CHILL','HEAD STRANGER','HEARTBREAKERS BRIGHT','HEAVEN FREEDOM','HEAVENLY GUN','HEAVYWEIGHTS BEAST','HEDWIG ALTER','HELLFIGHTERS SIERRA','HIGH ENCINO','HIGHBALL POTTER','HILLS NEIGHBORS','HOBBIT ALIEN','HOCUS FRIDA','HOLES BRANNIGAN','HOLIDAY GAMES','HOLLOW JEOPARDY','HOLLYWOOD ANONYMOUS','HOLOCAUST HIGHBALL','HOLY TADPOLE','HOME PITY','HOMEWARD CIDER','HOMICIDE PEACH','HONEY TIES','HOOK CHARIOTS','HOOSIERS BIRDCAGE','HOPE TOOTSIE','HORN WORKING','HORROR REIGN','HOTEL HAPPINESS','HOURS RAGE','HOUSE DYNAMITE','HUMAN GRAFFITI','HUNCHBACK IMPOSSIBLE','HUNGER ROOF','HUNTER ALTER','HUNTING MUSKETEERS','HURRICANE AFFAIR','HUSTLER PARTY','HYDE DOCTOR','HYSTERICAL GRAIL','ICE CROSSING','IDAHO LOVE','IDENTITY LOVER','IDOLS SNATCHERS','IGBY MAKER','ILLUSION AMELIE','IMAGE PRINCESS','IMPACT ALADDIN','IMPOSSIBLE PREJUDICE','INCH JET','INDEPENDENCE HOTEL','INDIAN LOVE','INFORMER DOUBLE','INNOCENT USUAL','INSECTS STONE','INSIDER ARIZONA','INSTINCT AIRPORT','INTENTIONS EMPIRE','INTERVIEW LIAISONS','INTOLERABLE INTENTIONS','INTRIGUE WORST','INVASION CYCLONE','IRON MOON','ISHTAR ROCKETEER','ISLAND EXORCIST','ITALIAN AFRICAN','JACKET FRISCO','JADE BUNCH','JAPANESE RUN','JASON TRAP','JAWBREAKER BROOKLYN','JAWS HARRY','JEDI BENEATH','JEEPERS WEDDING','JEKYLL FROGMEN','JEOPARDY ENCINO','JERICHO MULAN','JERK PAYCHECK','JERSEY SASSY','JET NEIGHBORS','JINGLE SAGEBRUSH','JOON NORTHWEST','JUGGLER HARDLY','JUMANJI BLADE','JUMPING WRATH','JUNGLE CLOSER','KANE EXORCIST','KARATE MOON','KENTUCKIAN GIANT','KICK SAVANNAH','KILL BROTHERHOOD','KILLER INNOCENT','KING EVOLUTION','KISS GLORY','KISSING DOLLS','KNOCK WARLOCK','KRAMER CHOCOLATE','KWAI HOMEWARD','LABYRINTH LEAGUE','LADY STAGE','LADYBUGS ARMAGEDDON','LAMBS CINCINATTI','LANGUAGE COWBOY','LAWLESS VISION','LAWRENCE LOVE','LEAGUE HELLFIGHTERS','LEATHERNECKS DWARFS','LEBOWSKI SOLDIERS','LEGALLY SECRETARY','LEGEND JEDI','LESSON CLEOPATRA','LIAISONS SWEET','LIBERTY MAGNIFICENT','LICENSE WEEKEND','LIES TREATMENT','LIFE TWISTED','LIGHTS DEER','LION UNCUT','LOATHING LEGALLY','LOCK REAR','LOLA AGENT','LOLITA WORLD','LONELY ELEPHANT','LORD ARIZONA','LOSE INCH','LOSER HUSTLER','LOST BIRD','LOUISIANA HARRY','LOVE SUICIDES','LOVELY JINGLE','LOVER TRUMAN','LOVERBOY ATTACKS','LUCK OPUS','LUCKY FLYING','LUKE MUMMY','LUST LOCK','MADIGAN DORADO','MADISON TRAP','MADNESS ATTACKS','MADRE GABLES','MAGIC MALLRATS','MAGNIFICENT CHITTY','MAGNOLIA FORRESTER','MAGUIRE APACHE','MAIDEN HOME','MAJESTIC FLOATS','MAKER GABLES','MALKOVICH PET','MALLRATS UNITED','MALTESE HOPE','MANCHURIAN CURTAIN','MANNEQUIN WORST','MARRIED GO','MARS ROMAN','MASK PEACH','MASKED BUBBLE','MASSACRE USUAL','MASSAGE IMAGE','MATRIX SNOWMAN','MAUDE MOD','MEET CHOCOLATE','MEMENTO ZOOLANDER','MENAGERIE RUSHMORE','MERMAID INSECTS','METAL ARMAGEDDON','METROPOLIS COMA','MICROCOSMOS PARADISE','MIDNIGHT WESTWARD','MIDSUMMER GROUNDHOG','MIGHTY LUCK','MILE MULAN','MILLION ACE','MINDS TRUMAN','MINE TITANS','MINORITY KISS','MIRACLE VIRTUAL','MISSION ZOOLANDER','MIXED DOORS','MOB DUFFEL','MOCKINGBIRD HOLLYWOOD','MOD SECRETARY','MODEL FISH','MODERN DORADO','MONEY HAROLD','MONSOON CAUSE','MONSTER SPARTACUS','MONTEREY LABYRINTH','MONTEZUMA COMMAND','MOON BUNCH','MOONSHINE CABIN','MOONWALKER FOOL','MOSQUITO ARMAGEDDON','MOTHER OLEANDER','MOTIONS DETAILS','MOULIN WAKE','MOURNING PURPLE','MOVIE SHAKESPEARE','MULAN MOON','MULHOLLAND BEAST','MUMMY CREATURES','MUPPET MILE','MURDER ANTITRUST','MUSCLE BRIGHT','MUSIC BOONDOCK','MUSKETEERS WAIT','MUSSOLINI SPOILERS','MYSTIC TRUMAN','NAME DETECTIVE','NASH CHOCOLAT','NATIONAL STORY','NATURAL STOCK','NECKLACE OUTBREAK','NEIGHBORS CHARADE','NEMO CAMPUS','NETWORK PEAK','NEWSIES STORY','NEWTON LABYRINTH','NIGHTMARE CHILL','NONE SPIKING','NOON PAPI','NORTH TEQUILA','NORTHWEST POLISH','NOTORIOUS REUNION','NOTTING SPEAKEASY','NOVOCAINE FLIGHT','NUTS TIES','OCTOBER SUBMARINE','ODDS BOOGIE','OKLAHOMA JUMANJI','OLEANDER CLUE','OPEN AFRICAN','OPERATION OPERATION','OPPOSITE NECKLACE','OPUS ICE','ORANGE GRAPES','ORDER BETRAYED','ORIENT CLOSER','OSCAR GOLD','OTHERS SOUP','OUTBREAK DIVINE','OUTFIELD MASSACRE','OUTLAW HANKY','OZ LIAISONS','PACIFIC AMISTAD','PACKER MADIGAN','PAJAMA JAWBREAKER','PANIC CLUB','PANKY SUBMARINE','PANTHER REDS','PAPI NECKLACE','PARADISE SABRINA','PARIS WEEKEND','PARK CITIZEN','PARTY KNOCK','PAST SUICIDES','PATHS CONTROL','PATIENT SISTER','PATRIOT ROMAN','PATTON INTERVIEW','PAYCHECK WAIT','PEACH INNOCENT','PEAK FOREVER','PEARL DESTINY','PELICAN COMFORTS','PERDITION FARGO','PERFECT GROOVE','PERSONAL LADYBUGS','PET HAUNTING','PHANTOM GLORY','PHILADELPHIA WIFE','PIANIST OUTFIELD','PICKUP DRIVING','PILOT HOOSIERS','PINOCCHIO SIMON','PIRATES ROXANNE','PITTSBURGH HUNCHBACK','PITY BOUND','PIZZA JUMANJI','PLATOON INSTINCT','PLUTO OLEANDER','POCUS PULP','POLISH BROOKLYN','POLLOCK DELIVERANCE','POND SEATTLE','POSEIDON FOREVER','POTLUCK MIXED','POTTER CONNECTICUT','PREJUDICE OLEANDER','PRESIDENT BANG','PRIDE ALAMO','PRIMARY GLASS','PRINCESS GIANT','PRIVATE DROP','PRIX UNDEFEATED','PSYCHO SHRUNK','PULP BEVERLY','PUNK DIVORCE','PURE RUNNER','PURPLE MOVIE','QUEEN LUKE','QUEST MUSSOLINI','QUILLS BULL','RACER EGG','RAGE GAMES','RAGING AIRPLANE','RAIDERS ANTITRUST','RAINBOW SHOCK','RANDOM GO','RANGE MOONWALKER','REAP UNFAITHFUL','REAR TRADING','REBEL AIRPORT','RECORDS ZORRO','REDEMPTION COMFORTS','REDS POCUS','REEF SALUTE','REIGN GENTLEMEN','REMEMBER DIARY','REQUIEM TYCOON','RESERVOIR ADAPTATION','RESURRECTION SILVERADO','REUNION WITCHES','RIDER CADDYSHACK','RIDGEMONT SUBMARINE','RIGHT CRANES','RINGS HEARTBREAKERS','RIVER OUTLAW','ROAD ROXANNE','ROBBERS JOON','ROBBERY BRIGHT','ROCK INSTINCT','ROCKETEER MOTHER','ROCKY WAR','ROLLERCOASTER BRINGING','ROMAN PUNK','ROOF CHAMPION','ROOM ROMAN','ROOTS REMEMBER','ROSES TREASURE','ROUGE SQUAD','ROXANNE REBEL','RUGRATS SHAKESPEARE','RULES HUMAN','RUN PACIFIC','RUNAWAY TENENBAUMS','RUNNER MADIGAN','RUSH GOODFELLAS','RUSHMORE MERMAID','SABRINA MIDNIGHT','SADDLE ANTITRUST','SAGEBRUSH CLUELESS','SAINTS BRIDE','SALUTE APOLLO','SAMURAI LION','SANTA PARIS','SASSY PACKER','SATISFACTION CONFIDENTIAL','SATURDAY LAMBS','SATURN NAME','SAVANNAH TOWN','SCALAWAG DUCK','SCARFACE BANG','SCHOOL JACKET','SCISSORHANDS SLUMS','SCORPION APOLLO','SEA VIRGIN','SEABISCUIT PUNK','SEARCHERS WAIT','SEATTLE EXPECATIONS','SECRET GROUNDHOG','SECRETARY ROUGE','SECRETS PARADISE','SENSE GREEK','SENSIBILITY REAR','SEVEN SWARM','SHAKESPEARE SADDLE','SHANE DARKNESS','SHANGHAI TYCOON','SHAWSHANK BUBBLE','SHEPHERD MIDSUMMER','SHINING ROSES','SHIP WONDERLAND','SHOCK CABIN','SHOOTIST SUPERFLY','SHOW LORD','SHREK LICENSE','SHRUNK DIVINE','SIDE ARK','SIEGE MADRE','SIERRA DIVIDE','SILENCE KANE','SILVERADO GOLDFINGER','SIMON NORTH','SINNERS ATLANTIS','SISTER FREDDY','SKY MIRACLE','SLACKER LIAISONS','SLEEPING SUSPECTS','SLEEPLESS MONSOON','SLEEPY JAPANESE','SLEUTH ORIENT','SLING LUKE','SLIPPER FIDELITY','SLUMS DUCK','SMILE EARRING','SMOKING BARBARELLA','SMOOCHY CONTROL','SNATCH SLIPPER','SNATCHERS MONTEZUMA','SNOWMAN ROLLERCOASTER','SOLDIERS EVOLUTION','SOMETHING DUCK','SONG HEDWIG','SONS INTERVIEW','SORORITY QUEEN','SOUP WISDOM','SOUTH WAIT','SPARTACUS CHEAPER','SPEAKEASY DATE','SPEED SUIT','SPICE SORORITY','SPIKING ELEMENT','SPINAL ROCKY','SPIRIT FLINTSTONES','SPIRITED CASUALTIES','SPLASH GUMP','SPLENDOR PATTON','SPOILERS HELLFIGHTERS','SPY MILE','SQUAD FISH','STAGE WORLD','STAGECOACH ARMAGEDDON','STALLION SUNDANCE','STAMPEDE DISTURBING','STAR OPERATION','STATE WASTELAND','STEEL SANTA','STEERS ARMAGEDDON','STEPMOM DREAM','STING PERSONAL','STOCK GLASS','STONE FIRE','STORM HAPPINESS','STORY SIDE','STRAIGHT HOURS','STRANGELOVE DESIRE','STRANGER STRANGERS','STRANGERS GRAFFITI','STREAK RIDGEMONT','STREETCAR INTENTIONS','STRICTLY SCARFACE','SUBMARINE BED','SUGAR WONKA','SUICIDES SILENCE','SUIT WALLS','SUMMER SCARFACE','SUN CONFESSIONS','SUNDANCE INVASION','SUNRISE LEAGUE','SUNSET RACER','SUPER WYOMING','SUPERFLY TRIP','SUSPECTS QUILLS','SWARM GOLD','SWEDEN SHINING','SWEET BROTHERHOOD','SWEETHEARTS SUSPECTS','TADPOLE PARK','TALENTED HOMICIDE','TARZAN VIDEOTAPE','TAXI KICK','TEEN APOLLO','TELEGRAPH VOYAGE','TELEMARK HEARTBREAKERS','TEMPLE ATTRACTION','TENENBAUMS COMMAND','TEQUILA PAST','TERMINATOR CLUB','TEXAS WATCH','THEORY MERMAID','THIEF PELICAN','THIN SAGEBRUSH','TIES HUNGER','TIGHTS DAWN','TIMBERLAND SKY','TITANIC BOONDOCK','TITANS JERK','TOMATOES HELLFIGHTERS','TOMORROW HUSTLER','TOOTSIE PILOT','TORQUE BOUND','TOURIST PELICAN','TOWERS HURRICANE','TOWN ARK','TRACY CIDER','TRADING PINOCCHIO','TRAFFIC HOBBIT','TRAIN BUNCH','TRAINSPOTTING STRANGERS','TRAMP OTHERS','TRANSLATION SUMMER','TRAP GUYS','TREASURE COMMAND','TREATMENT JEKYLL','TRIP NEWTON','TROJAN TOMORROW','TROOPERS METAL','TROUBLE DATE','TRUMAN CRAZY','TURN STAR','TUXEDO MILE','TWISTED PIRATES','TYCOON GATHERING','UNBREAKABLE KARATE','UNCUT SUICIDES','UNDEFEATED DALMATIONS','UNFAITHFUL KILL','UNFORGIVEN ZOOLANDER','UNITED PILOT','UNTOUCHABLES SUNRISE','UPRISING UPTOWN','UPTOWN YOUNG','USUAL UNTOUCHABLES','VACATION BOONDOCK','VALENTINE VANISHING','VALLEY PACKER','VAMPIRE WHALE','VANILLA DAY','VANISHED GARDEN','VANISHING ROCKY','VARSITY TRIP','VELVET TERMINATOR','VERTIGO NORTHWEST','VICTORY ACADEMY','VIDEOTAPE ARSENIC','VIETNAM SMOOCHY','VILLAIN DESPERATE','VIRGIN DAISY','VIRGINIAN PLUTO','VIRTUAL SPOILERS','VISION TORQUE','VOICE PEACH','VOLCANO TEXAS','VOLUME HOUSE','VOYAGE LEGALLY','WAGON JAWS','WAIT CIDER','WAKE JAWS','WALLS ARTIST','WANDA CHAMBER','WAR NOTTING','WARDROBE PHANTOM','WARLOCK WEREWOLF','WARS PLUTO','WASH HEAVENLY','WASTELAND DIVINE','WATCH TRACY','WATERFRONT DELIVERANCE','WATERSHIP FRONTIER','WEDDING APOLLO','WEEKEND PERSONAL','WEREWOLF LOLA','WEST LION','WESTWARD SEABISCUIT','WHALE BIKINI','WHISPERER GIANT','WIFE TURN','WILD APOLLO','WILLOW TRACY','WIND PHANTOM','WINDOW SIDE','WISDOM WORKER','WITCHES PANIC','WIZARD COLDBLOODED','WOLVES DESIRE','WOMEN DORADO','WON DARES','WONDERFUL DROP','WONDERLAND CHRISTMAS','WONKA SEA','WORDS HUNTER','WORKER TARZAN','WORKING MICROCOSMOS','WORLD LEATHERNECKS','WORST BANGER','WRATH MILE','WRONG BEHAVIOR','WYOMING STORM','YENTL IDAHO','YOUNG LANGUAGE','YOUTH KICK','ZHIVAGO CORE','ZOOLANDER FICTION','ZORRO ARK']\n",
        "\n",
        "anio_peliculas = ['2006','2006','2006','2006','2006','2006','2006','2006','2006','2006','2006','2006','2006','2006','2006','2006','2006','2006','2006','2006','2006','2006','2006','2006','2006','2006','2006','2006','2006','2006','2006','2006','2006','2006','2006','2006','2006','2006','2006','2006','2006','2006','2006','2006','2006','2006','2006','2006','2006','2006','2006','2006','2006','2006','2006','2006','2006','2006','2006','2006','2006','2006','2006','2006','2006','2006','2006','2006','2006','2006','2006','2006','2006','2006','2006','2006','2006','2006','2006','2006','2006','2006','2006','2006','2006','2006','2006','2006','2006','2006','2006','2006','2006','2006','2006','2006','2006','2006','2006','2006','2006','2006','2006','2006','2006','2006','2006','2006','2006','2006','2006','2006','2006','2006','2006','2006','2006','2006','2006','2006','2006','2006','2006','2006','2006','2006','2006','2006','2006','2006','2006','2006','2006','2006','2006','2006','2006','2006','2006','2006','2006','2006','2006','2006','2006','2006','2006','2006','2006','2006','2006','2006','2006','2006','2006','2006','2006','2006','2006','2006','2006','2006','2006','2006','2006','2006','2006','2006','2006','2006','2006','2006','2006','2006','2006','2006','2006','2006','2006','2006','2006','2006','2006','2006','2006','2006','2006','2006','2006','2006','2006','2006','2006','2006','2006','2006','2006','2006','2006','2006','2006','2006','2006','2006','2006','2006','2006','2006','2006','2006','2006','2006','2006','2006','2006','2006','2006','2006','2006','2006','2006','2006','2006','2006','2006','2006','2006','2006','2006','2006','2006','2006','2006','2006','2006','2006','2006','2006','2006','2006','2006','2006','2006','2006','2006','2006','2006','2006','2006','2006','2006','2006','2006','2006','2006','2006','2006','2006','2006','2006','2006','2006','2006','2006','2006','2006','2006','2006','2006','2006','2006','2006','2006','2006','2006','2006','2006','2006','2006','2006','2006','2006','2006','2006','2006','2006','2006','2006','2006','2006','2006','2006','2006','2006','2006','2006','2006','2006','2006','2006','2006','2006','2006','2006','2006','2006','2006','2006','2006','2006','2006','2006','2006','2006','2006','2006','2006','2006','2006','2006','2006','2006','2006','2006','2006','2006','2006','2006','2006','2006','2006','2006','2006','2006','2006','2006','2006','2006','2006','2006','2006','2006','2006','2006','2006','2006','2006','2006','2006','2006','2006','2006','2006','2006','2006','2006','2006','2006','2006','2006','2006','2006','2006','2006','2006','2006','2006','2006','2006','2006','2006','2006','2006','2006','2006','2006','2006','2006','2006','2006','2006','2006','2006','2006','2006','2006','2006','2006','2006','2006','2006','2006','2006','2006','2006','2006','2006','2006','2006','2006','2006','2006','2006','2006','2006','2006','2006','2006','2006','2006','2006','2006','2006','2006','2006','2006','2006','2006','2006','2006','2006','2006','2006','2006','2006','2006','2006','2006','2006','2006','2006','2006','2006','2006','2006','2006','2006','2006','2006','2006','2006','2006','2006','2006','2006','2006','2006','2006','2006','2006','2006','2006','2006','2006','2006','2006','2006','2006','2006','2006','2006','2006','2006','2006','2006','2006','2006','2006','2006','2006','2006','2006','2006','2006','2006','2006','2006','2006','2006','2006','2006','2006','2006','2006','2006','2006','2006','2006','2006','2006','2006','2006','2006','2006','2006','2006','2006','2006','2006','2006','2006','2006','2006','2006','2006','2006','2006','2006','2006','2006','2006','2006','2006','2006','2006','2006','2006','2006','2006','2006','2006','2006','2006','2006','2006','2006','2006','2006','2006','2006','2006','2006','2006','2006','2006','2006','2006','2006','2006','2006','2006','2006','2006','2006','2006','2006','2006','2006','2006','2006','2006','2006','2006','2006','2006','2006','2006','2006','2006','2006','2006','2006','2006','2006','2006','2006','2006','2006','2006','2006','2006','2006','2006','2006','2006','2006','2006','2006','2006','2006','2006','2006','2006','2006','2006','2006','2006','2006','2006','2006','2006','2006','2006','2006','2006','2006','2006','2006','2006','2006','2006','2006','2006','2006','2006','2006','2006','2006','2006','2006','2006','2006','2006','2006','2006','2006','2006','2006','2006','2006','2006','2006','2006','2006','2006','2006','2006','2006','2006','2006','2006','2006','2006','2006','2006','2006','2006','2006','2006','2006','2006','2006','2006','2006','2006','2006','2006','2006','2006','2006','2006','2006','2006','2006','2006','2006','2006','2006','2006','2006','2006','2006','2006','2006','2006','2006','2006','2006','2006','2006','2006','2006','2006','2006','2006','2006','2006','2006','2006','2006','2006','2006','2006','2006','2006','2006','2006','2006','2006','2006','2006','2006','2006','2006','2006','2006','2006','2006','2006','2006','2006','2006','2006','2006','2006','2006','2006','2006','2006','2006','2006','2006','2006','2006','2006','2006','2006','2006','2006','2006','2006','2006','2006','2006','2006','2006','2006','2006','2006','2006','2006','2006','2006','2006','2006','2006','2006','2006','2006','2006','2006','2006','2006','2006','2006','2006','2006','2006','2006','2006','2006','2006','2006','2006','2006','2006','2006','2006','2006','2006','2006','2006','2006','2006','2006','2006','2006','2006','2006','2006','2006','2006','2006','2006','2006','2006','2006','2006','2006','2006','2006','2006','2006','2006','2006','2006','2006','2006','2006','2006','2006','2006','2006','2006','2006','2006','2006','2006','2006','2006','2006','2006','2006','2006','2006','2006','2006','2006','2006','2006','2006','2006','2006','2006','2006','2006','2006','2006','2006','2006','2006','2006','2006','2006','2006','2006','2006','2006','2006','2006','2006','2006','2006','2006','2006','2006','2006','2006','2006','2006','2006','2006','2006','2006','2006','2006','2006','2006','2006','2006','2006','2006','2006','2006','2006','2006','2006','2006','2006','2006','2006','2006','2006','2006','2006','2006','2006','2006','2006','2006','2006','2006','2006','2006','2006','2006','2006','2006','2006','2006','2006','2006','2006','2006','2006','2006','2006','2006','2006','2006','2006','2006','2006','2006','2006','2006','2006','2006','2006','2006','2006','2006','2006','2006','2006','2006','2006','2006','2006','2006','2006','2006','2006','2006','2006','2006','2006','2006','2006','2006','2006','2006','2006','2006','2006','2006','2006','2006','2006','2006','2006','2006','2006','2006','2006','2006','2006','2006','2006','2006','2006','2006','2006','2006','2006','2006','2006','2006','2006','2006','2006','2006','2006','2006','2006','2006','2006','2006','2006','2006','2006','2006','2006','2006','2006','2006','2006','2006','2006','2006','2006','2006','2006','2006','2006','2006','2006','2006','2006','2006','2006','2006','2006','2006','2006','2006','2006','2006','2006','2006','2006','2006','2006','2006','2006','2006','2006','2006','2006','2006']\n",
        "\n",
        "clasificacion_pelicula = ['PG','G','NC-17','G','G','PG','PG-13','R','PG-13','NC-17','G','PG','PG','NC-17','NC-17','NC-17','R','PG-13','PG','R','R','G','R','R','G','G','NC-17','PG-13','NC-17','R','NC-17','R','PG-13','NC-17','PG-13','PG-13','PG','NC-17','G','R','PG','NC-17','G','PG-13','PG-13','G','NC-17','PG-13','R','G','NC-17','G','NC-17','R','G','G','PG-13','G','R','R','G','NC-17','PG','PG-13','PG','NC-17','PG-13','NC-17','R','NC-17','PG-13','PG','PG-13','PG','G','NC-17','G','PG','PG-13','G','PG-13','G','G','PG','G','R','NC-17','PG','G','R','PG','NC-17','PG','PG-13','G','PG-13','G','PG-13','PG','R','R','R','PG','G','NC-17','G','G','PG-13','G','NC-17','NC-17','NC-17','NC-17','NC-17','R','R','NC-17','R','G','NC-17','PG','PG','G','PG-13','NC-17','G','G','G','R','PG-13','PG','PG','NC-17','PG','R','NC-17','PG','R','PG','G','PG-13','PG','PG','PG','G','G','NC-17','R','NC-17','PG','NC-17','PG-13','G','G','PG-13','G','PG-13','R','R','PG-13','NC-17','R','PG-13','PG','G','G','NC-17','R','NC-17','PG-13','R','NC-17','PG-13','NC-17','PG-13','PG-13','R','G','G','PG-13','PG-13','G','R','PG-13','PG','NC-17','NC-17','PG','NC-17','NC-17','PG-13','R','G','PG','R','G','R','NC-17','R','PG-13','PG','G','G','PG','NC-17','G','PG','PG-13','NC-17','NC-17','PG-13','G','R','PG-13','PG','G','G','NC-17','PG-13','NC-17','R','R','NC-17','G','PG-13','G','R','PG-13','R','G','R','NC-17','PG','R','PG-13','R','G','G','G','PG-13','NC-17','R','NC-17','NC-17','R','R','G','NC-17','G','NC-17','NC-17','PG','PG-13','PG-13','NC-17','R','G','PG','NC-17','G','G','NC-17','R','G','PG','PG-13','NC-17','NC-17','R','NC-17','G','NC-17','PG','PG','PG','NC-17','PG-13','NC-17','NC-17','G','G','NC-17','NC-17','NC-17','PG-13','NC-17','R','R','G','PG','PG-13','G','G','PG-13','PG','R','G','PG-13','PG-13','PG-13','R','G','PG-13','G','PG','PG-13','NC-17','PG','R','R','PG','R','G','R','R','R','PG','G','R','PG-13','NC-17','G','R','PG-13','PG-13','NC-17','PG','NC-17','R','NC-17','NC-17','NC-17','R','NC-17','PG-13','PG','R','PG','R','PG-13','PG','R','PG','PG-13','PG','R','PG-13','PG-13','PG-13','G','PG','PG-13','NC-17','G','R','R','G','R','PG','G','NC-17','PG-13','R','NC-17','R','G','R','R','PG','R','G','R','G','PG','NC-17','G','G','NC-17','R','PG','R','PG','NC-17','R','PG-13','NC-17','G','NC-17','PG-13','R','PG-13','NC-17','PG-13','R','R','G','NC-17','NC-17','G','R','NC-17','G','PG-13','PG','NC-17','R','PG-13','R','G','PG','NC-17','G','NC-17','PG','R','R','G','PG-13','G','PG','PG-13','NC-17','PG','R','R','R','R','PG-13','R','G','G','NC-17','PG','R','PG-13','NC-17','R','NC-17','PG-13','G','PG-13','NC-17','PG','NC-17','G','PG','R','PG-13','PG-13','NC-17','NC-17','R','PG-13','PG-13','NC-17','NC-17','NC-17','NC-17','NC-17','PG-13','NC-17','NC-17','PG','PG-13','R','PG-13','G','PG','PG','R','NC-17','G','PG-13','NC-17','G','NC-17','PG','G','PG','R','PG','R','NC-17','NC-17','PG','R','PG-13','NC-17','PG-13','G','NC-17','NC-17','R','PG-13','PG','PG-13','G','R','NC-17','PG-13','R','PG-13','R','PG-13','PG-13','PG','NC-17','PG-13','NC-17','G','NC-17','PG-13','PG-13','PG-13','PG','PG','NC-17','PG','G','NC-17','NC-17','NC-17','R','PG','R','R','PG','NC-17','G','PG-13','R','PG','PG-13','PG-13','R','PG','G','PG-13','NC-17','PG-13','NC-17','G','R','R','PG-13','PG-13','PG','R','PG-13','NC-17','PG','PG','PG-13','G','PG','PG-13','PG','PG-13','G','NC-17','NC-17','PG-13','R','PG','PG-13','R','G','NC-17','G','NC-17','PG-13','PG-13','PG-13','G','G','PG','PG','PG-13','PG-13','PG-13','G','PG-13','PG-13','PG-13','G','PG','NC-17','NC-17','PG','PG','PG','PG','G','NC-17','PG','PG-13','G','G','R','PG','PG-13','PG','PG','G','PG','NC-17','PG','PG','G','R','PG','G','NC-17','PG-13','PG-13','NC-17','PG-13','PG','R','NC-17','PG-13','G','PG','PG','NC-17','G','NC-17','PG','NC-17','PG-13','G','NC-17','PG-13','NC-17','PG','PG','PG','G','PG','R','PG-13','PG-13','R','PG','PG','NC-17','NC-17','PG-13','R','G','PG-13','R','G','G','NC-17','PG','PG-13','PG-13','PG-13','PG','PG-13','PG','NC-17','PG','PG','PG-13','PG-13','PG','NC-17','PG','NC-17','PG-13','PG-13','PG','NC-17','PG-13','NC-17','G','PG','PG','PG','PG-13','NC-17','NC-17','PG-13','R','NC-17','PG','PG','PG-13','PG-13','G','PG','PG-13','PG','NC-17','G','NC-17','PG','R','PG-13','G','PG','NC-17','R','PG','R','R','NC-17','R','R','PG-13','PG','NC-17','PG','PG-13','NC-17','G','PG','NC-17','PG-13','NC-17','PG-13','R','R','PG-13','PG','R','PG','PG-13','PG-13','G','PG-13','R','PG-13','R','G','PG-13','PG-13','PG-13','NC-17','R','PG','PG-13','PG-13','NC-17','R','PG-13','R','R','NC-17','NC-17','PG','PG-13','PG','PG-13','G','G','R','G','PG','G','G','G','R','PG-13','NC-17','PG-13','PG-13','G','NC-17','PG','NC-17','NC-17','PG-13','PG','PG','G','R','PG','R','PG-13','PG','PG','PG','R','G','R','PG-13','PG-13','PG-13','PG-13','R','G','R','NC-17','R','PG','NC-17','PG-13','PG-13','PG','R','PG-13','G','PG','NC-17','R','PG-13','PG','G','PG-13','R','PG','PG-13','G','R','NC-17','PG-13','NC-17','NC-17','R','R','NC-17','PG-13','PG-13','NC-17','G','PG-13','R','PG-13','PG','R','G','PG-13','PG','PG','R','PG-13','R','PG','NC-17','NC-17','PG','NC-17','NC-17','PG','G','NC-17','R','R','NC-17','G','R','PG-13','R','PG-13','R','PG','G','R','G','R','NC-17','PG-13','NC-17','PG','PG','PG','PG-13','PG','R','G','PG','PG','PG-13','PG-13','G','PG','PG-13','PG','PG-13','PG','R','NC-17','PG-13','PG-13','PG-13','R','R','G','R','PG','PG','R','PG','G','PG-13','NC-17','R','G','PG','G','R','PG-13','PG','PG-13','G','PG-13','PG','PG-13','PG','R','PG','G','G','R','PG','G','G','PG-13','PG-13','R','PG','R','NC-17','NC-17','PG','PG-13','R','PG-13','G','NC-17','NC-17','R','NC-17','NC-17','R','R','PG-13','NC-17','PG-13','PG-13','PG-13','R','NC-17','PG-13','PG-13','NC-17','PG','PG-13','PG','PG-13','G','PG','PG-13','G','G','G','G','R','PG','PG','G','G','PG','R','G','G','NC-17','PG-13','PG-13','NC-17','R','R','R','R','R','NC-17','PG','NC-17','R','PG','NC-17','PG','NC-17','PG','R','R','PG-13','PG','NC-17','PG-13','PG-13','R','G','NC-17','NC-17','R','NC-17']"
      ],
      "metadata": {
        "id": "z_cmUlS8uOjH"
      },
      "execution_count": null,
      "outputs": []
    },
    {
      "cell_type": "code",
      "source": [
        "\"\"\"\n",
        "  Tarea:\n",
        "        1. crear una lista con las peliculas de cada clasificación\n",
        "        2. indicar cuantas peliculas hay por cada clasificación\n",
        "        3. Ordenar cada una de las listas generadas en orden alfabetico\n",
        "\"\"\""
      ],
      "metadata": {
        "colab": {
          "base_uri": "https://localhost:8080/",
          "height": 35
        },
        "id": "zWKNXLrAxrxl",
        "outputId": "0c49ab74-6105-4783-cca4-47557fa22a70"
      },
      "execution_count": null,
      "outputs": [
        {
          "output_type": "execute_result",
          "data": {
            "text/plain": [
              "'\\n  Tarea:\\n'"
            ],
            "application/vnd.google.colaboratory.intrinsic+json": {
              "type": "string"
            }
          },
          "metadata": {},
          "execution_count": 1
        }
      ]
    },
    {
      "cell_type": "code",
      "source": [
        "lista_prueba = [2,5,2,8,42,16,1,0]\n",
        "lista_prueba.sort(reverse= True)\n",
        "print(lista_prueba)"
      ],
      "metadata": {
        "colab": {
          "base_uri": "https://localhost:8080/"
        },
        "id": "c63HUrqAxvvO",
        "outputId": "bbf5ba32-1a34-4824-ede4-654d125e9e37"
      },
      "execution_count": null,
      "outputs": [
        {
          "output_type": "stream",
          "name": "stdout",
          "text": [
            "[42, 16, 8, 5, 2, 2, 1, 0]\n"
          ]
        }
      ]
    },
    {
      "cell_type": "code",
      "source": [
        "# Solución:\n",
        " # 1. Creamos una lista con las clasificaciones generales:\n",
        "clasificacion_MPAA = ['G','PG','PG-13','R','NC-17']\n",
        "clasificacion_G = []\n",
        "clasificacion_PG = []\n",
        "clasificacion_PG_13 = []\n",
        "clasificacion_R = []\n",
        "clasificacion_NC_17 = []\n",
        " # 2. crear una lista con las peliculas de cada clasificación\n",
        "\n",
        "if len(clasificacion_pelicula) == len(nombre_peliculas):\n",
        "  for grupo_pelicula in zip(nombre_peliculas,clasificacion_pelicula, anio_peliculas):\n",
        "    \"\"\" Agrupamos las peliculas de acuerdo a su clasificación \"\"\"\n",
        "    if grupo_pelicula[1] == clasificacion_MPAA[0]:\n",
        "      clasificacion_G.append(grupo_pelicula[0])\n",
        "    if grupo_pelicula[1] == clasificacion_MPAA[1]:\n",
        "      clasificacion_PG.append(grupo_pelicula[0])\n",
        "    if grupo_pelicula[1] == clasificacion_MPAA[2]:\n",
        "      clasificacion_PG_13.append(grupo_pelicula[0])\n",
        "    if grupo_pelicula[1] == 'R':\n",
        "      clasificacion_R.append(grupo_pelicula[0])\n",
        "    if grupo_pelicula[1] == 'NC-17':\n",
        "      clasificacion_NC_17.append(grupo_pelicula[0])\n",
        "else:\n",
        "  print(f'Las listas deben tener la misma cantidad de elementos nombrepeliculas tiene {len(nombre_peliculas)} y  clasificacion_pelicula tiene {len(clasificacion_pelicula)}')\n",
        "\n",
        "\"\"\" Imprimimos el resultado \"\"\"\n",
        "print(len(clasificacion_G), clasificacion_G)\n",
        "print(len(clasificacion_PG), clasificacion_PG)\n",
        "print(len(clasificacion_PG_13), clasificacion_PG_13)\n",
        "print(len(clasificacion_R), clasificacion_R)\n",
        "print(len(clasificacion_NC_17), clasificacion_NC_17)"
      ],
      "metadata": {
        "colab": {
          "base_uri": "https://localhost:8080/"
        },
        "id": "xTpJ5QzNzOsQ",
        "outputId": "039196b8-4d84-49ba-a8b9-026e2bfbba0c"
      },
      "execution_count": null,
      "outputs": [
        {
          "output_type": "stream",
          "name": "stdout",
          "text": [
            "178 ['ACE GOLDFINGER', 'AFFAIR PREJUDICE', 'AFRICAN EGG', 'ALAMO VIDEOTAPE', 'AMISTAD MIDSUMMER', 'ANGELS LIFE', 'ANNIE IDENTITY', 'ARMAGEDDON LOST', 'ATLANTIS CAUSE', 'AUTUMN CROW', 'BAKED CLEOPATRA', 'BALLROOM MOCKINGBIRD', 'BARBARELLA STREETCAR', 'BAREFOOT MANCHURIAN', 'BEACH HEARTBREAKERS', 'BEAUTY GREASE', 'BIRD INDEPENDENCE', 'BIRDS PERDITION', 'BLANKET BEVERLY', 'BLOOD ARGONAUTS', 'BLUES INSTINCT', 'BONNIE HOLOCAUST', 'BORROWERS BEDAZZLED', 'BREAKFAST GOLDFINGER', 'BRIDE INTRIGUE', 'BUGSY SONG', 'BULWORTH COMMANDMENTS', 'BUNCH MINDS', 'BUTTERFLY CHOCOLAT', 'CAPER MOTIONS', 'CASABLANCA SUPER', 'CASUALTIES ENCINO', 'CAT CONEHEADS', 'CATCH AMISTAD', 'CHEAPER CLYDE', 'CHISUM BEHAVIOR', 'CHITTY LOCK', 'CITIZEN SHREK', 'CLASH FREDDY', 'CLERKS ANGELS', 'COLDBLOODED DARLING', 'COLOR PHILADELPHIA', 'CONNECTION MICROCOSMOS', 'CONQUERER NUTS', 'CONTROL ANTHEM', 'CROSSROADS CASUALTIES', 'CRUELTY UNFORGIVEN', 'DADDY PITTSBURGH', 'DAISY MENAGERIE', 'DANCING FEVER', 'DARN FORRESTER', 'DAY UNFAITHFUL', 'DAZED PUNK', 'DESPERATE TRAINSPOTTING', 'DESTINY SATURDAY', 'DIARY PANIC', 'DIVORCE SHINING', 'DOCTOR GRAIL', 'DOGMA FAMILY', 'DOWNHILL ENOUGH', 'DRACULA CRYSTAL', 'DRUMLINE CYCLONE', 'DUDE BLINDNESS', 'DUFFEL APOCALYPSE', 'DWARFS ALTER', 'EASY GLADIATOR', 'EMPIRE MALKOVICH', 'ENCINO ELF', 'EVE RESURRECTION', 'EXCITEMENT EVE', 'EXORCIST STING', 'EXTRAORDINARY CONQUERER', 'FANTASIA PARK', 'FARGO GANDHI', 'FIDELITY DEVIL', 'FIREHOUSE VIETNAM', 'FLATLINERS KILLER', 'GARDEN ISLAND', 'GHOST GROUNDHOG', 'GILBERT PELICAN', 'GLASS DYING', 'GOLDFINGER SENSIBILITY', 'GOSFORD DONNIE', 'GRADUATE LORD', 'GRAPES FURY', 'GREASE YOUTH', 'GUN BONNIE', 'HANGING DEEP', 'HAPPINESS UNITED', 'HARPER DYING', 'HEARTBREAKERS BRIGHT', 'HEAVYWEIGHTS BEAST', 'HILLS NEIGHBORS', 'HOCUS FRIDA', 'HOOK CHARIOTS', 'HOOSIERS BIRDCAGE', 'HUNGER ROOF', 'HYDE DOCTOR', 'INTRIGUE WORST', 'ITALIAN AFRICAN', 'JAPANESE RUN', 'JAWS HARRY', 'JUMANJI BLADE', 'KILL BROTHERHOOD', 'LAWLESS VISION', 'LIBERTY MAGNIFICENT', 'LONELY ELEPHANT', 'LOVER TRUMAN', 'LUST LOCK', 'MALKOVICH PET', 'MARRIED GO', 'MEET CHOCOLATE', 'MENAGERIE RUSHMORE', 'MIDNIGHT WESTWARD', 'MIDSUMMER GROUNDHOG', 'MINORITY KISS', 'MOB DUFFEL', 'MONTEREY LABYRINTH', 'MOONWALKER FOOL', 'MOSQUITO ARMAGEDDON', 'MULAN MOON', 'MUSCLE BRIGHT', 'MUSSOLINI SPOILERS', 'NEWSIES STORY', 'NOON PAPI', 'NOVOCAINE FLIGHT', 'OPERATION OPERATION', 'PACIFIC AMISTAD', 'PANIC CLUB', 'PANKY SUBMARINE', 'PICKUP DRIVING', 'POTLUCK MIXED', 'PRIMARY GLASS', 'PULP BEVERLY', 'REBEL AIRPORT', 'RINGS HEARTBREAKERS', 'ROCK INSTINCT', 'SAGEBRUSH CLUELESS', 'SAINTS BRIDE', 'SAMURAI LION', 'SASSY PACKER', 'SATISFACTION CONFIDENTIAL', 'SATURDAY LAMBS', 'SCISSORHANDS SLUMS', 'SECRETS PARADISE', 'SHINING ROSES', 'SIDE ARK', 'SLEEPLESS MONSOON', 'SMILE EARRING', 'SNOWMAN ROLLERCOASTER', 'SPIKING ELEMENT', 'SPOILERS HELLFIGHTERS', 'STONE FIRE', 'STRANGER STRANGERS', 'SUICIDES SILENCE', 'SUMMER SCARFACE', 'SWEETHEARTS SUSPECTS', 'TEEN APOLLO', 'TIMBERLAND SKY', 'TORQUE BOUND', 'TRACY CIDER', 'TRAFFIC HOBBIT', 'TRAP GUYS', 'TRUMAN CRAZY', 'TURN STAR', 'TYCOON GATHERING', 'UNBREAKABLE KARATE', 'VALLEY PACKER', 'WAKE JAWS', 'WAR NOTTING', 'WARDROBE PHANTOM', 'WARLOCK WEREWOLF', 'WARS PLUTO', 'WATERFRONT DELIVERANCE', 'WATERSHIP FRONTIER', 'WEREWOLF LOLA', 'WEST LION', 'YOUNG LANGUAGE']\n",
            "194 ['ACADEMY DINOSAUR', 'AGENT TRUMAN', 'ALASKA PHANTOM', 'ALI FOREVER', 'AMADEUS HOLY', 'ARIZONA BANG', 'ARSENIC INDEPENDENCE', 'BEDAZZLED MARRIED', 'BEHAVIOR RUNAWAY', 'BILL OTHERS', 'BIRCH ANTITRUST', 'BLACKOUT PRIVATE', 'BOILED DARES', 'BORN SPINAL', 'BOUND CHEAPER', 'BRANNIGAN SUNRISE', 'BRINGING HYSTERICAL', 'BUCKET BROTHERHOOD', 'CAROL TEXAS', 'CARRIE BUNCH', 'CENTER DINOSAUR', 'CHAINSAW UPTOWN', 'CHAMPION FLATLINERS', 'CHARADE DUFFEL', 'CHASING FIGHT', 'CHICKEN HELLFIGHTERS', 'CHILL LUCK', 'CHINATOWN GLADIATOR', 'CIDER DESIRE', 'COAST RAINBOW', 'COWBOY DOOM', 'CRAZY HOME', 'CROW GREASE', 'CYCLONE FAMILY', 'DALMATIONS SWEDEN', 'DANGEROUS UPTOWN', 'DAWN POND', 'DISCIPLE MOTHER', 'DREAM PICKUP', 'DRUMS DYNAMITE', 'DYING MAKER', 'EFFECT GLADIATOR', 'EGG IGBY', 'EGYPT TENENBAUMS', 'EVERYONE CRAFT', 'EXPENDABLE STALLION', 'FATAL HAUNTED', 'FERRIS MOTHER', 'FICTION CHRISTMAS', 'FIREBALL PHILADELPHIA', 'FOOL MOCKINGBIRD', 'FRENCH HOLIDAY', 'FRISCO FORREST', 'FROST HEAD', 'FULL FLATLINERS', 'GABLES METROPOLIS', 'GASLIGHT CRUSADE', 'GLADIATOR WESTWARD', 'GOODFELLAS SALUTE', 'GRAFFITI LOVE', 'GREEK EVERYONE', 'GRIT CLOCKWORK', 'HATE HANDICAP', 'HEAVEN FREEDOM', 'HELLFIGHTERS SIERRA', 'HOLES BRANNIGAN', 'HOLLYWOOD ANONYMOUS', 'HORN WORKING', 'HURRICANE AFFAIR', 'HYSTERICAL GRAIL', 'INSTINCT AIRPORT', 'INVASION CYCLONE', 'IRON MOON', 'JAWBREAKER BROOKLYN', 'JEDI BENEATH', 'JEKYLL FROGMEN', 'JERSEY SASSY', 'KENTUCKIAN GIANT', 'LADY STAGE', 'LEGALLY SECRETARY', 'LEGEND JEDI', 'LIAISONS SWEET', 'LION UNCUT', 'LOLA AGENT', 'LOSER HUSTLER', 'LOVELY JINGLE', 'MAGIC MALLRATS', 'MAIDEN HOME', 'MAJESTIC FLOATS', 'MALLRATS UNITED', 'MANCHURIAN CURTAIN', 'MASSAGE IMAGE', 'MIGHTY LUCK', 'MILE MULAN', 'MOCKINGBIRD HOLLYWOOD', 'MODERN DORADO', 'MONEY HAROLD', 'MONSOON CAUSE', 'MONSTER SPARTACUS', 'MOON BUNCH', 'MOTIONS DETAILS', 'MOURNING PURPLE', 'MOVIE SHAKESPEARE', 'MULHOLLAND BEAST', 'MUPPET MILE', 'MURDER ANTITRUST', 'MUSKETEERS WAIT', 'NECKLACE OUTBREAK', 'NEWTON LABYRINTH', 'NIGHTMARE CHILL', 'NORTHWEST POLISH', 'OKLAHOMA JUMANJI', 'OLEANDER CLUE', 'OPEN AFRICAN', 'OPPOSITE NECKLACE', 'OSCAR GOLD', 'OTHERS SOUP', 'PAPI NECKLACE', 'PARTY KNOCK', 'PATHS CONTROL', 'PATRIOT ROMAN', 'PATTON INTERVIEW', 'PEAK FOREVER', 'PELICAN COMFORTS', 'PET HAUNTING', 'PILOT HOOSIERS', 'PINOCCHIO SIMON', 'PIRATES ROXANNE', 'POLISH BROOKLYN', 'POLLOCK DELIVERANCE', 'POTTER CONNECTICUT', 'PRESIDENT BANG', 'PRIVATE DROP', 'PUNK DIVORCE', 'QUEEN LUKE', 'RAINBOW SHOCK', 'RANGE MOONWALKER', 'RECORDS ZORRO', 'RESURRECTION SILVERADO', 'RIDER CADDYSHACK', 'ROOM ROMAN', 'RUSH GOODFELLAS', 'SABRINA MIDNIGHT', 'SANTA PARIS', 'SEA VIRGIN', 'SECRET GROUNDHOG', 'SECRETARY ROUGE', 'SENSIBILITY REAR', 'SHANE DARKNESS', 'SHANGHAI TYCOON', 'SHAWSHANK BUBBLE', 'SILVERADO GOLDFINGER', 'SKY MIRACLE', 'SLEEPY JAPANESE', 'SLUMS DUCK', 'SNATCH SLIPPER', 'SPLASH GUMP', 'SQUAD FISH', 'STAGE WORLD', 'STAR OPERATION', 'STEERS ARMAGEDDON', 'STOCK GLASS', 'SUGAR WONKA', 'SUPER WYOMING', 'SUPERFLY TRIP', 'SUSPECTS QUILLS', 'SWEDEN SHINING', 'TADPOLE PARK', 'TALENTED HOMICIDE', 'TELEGRAPH VOYAGE', 'TEMPLE ATTRACTION', 'TEQUILA PAST', 'TITANS JERK', 'TOMATOES HELLFIGHTERS', 'TOOTSIE PILOT', 'TRADING PINOCCHIO', 'TRAMP OTHERS', 'TREATMENT JEKYLL', 'TROJAN TOMORROW', 'TROUBLE DATE', 'TWISTED PIRATES', 'UNFORGIVEN ZOOLANDER', 'UPTOWN YOUNG', 'VOLUME HOUSE', 'WAGON JAWS', 'WALLS ARTIST', 'WASTELAND DIVINE', 'WATCH TRACY', 'WEDDING APOLLO', 'WIZARD COLDBLOODED', 'WON DARES', 'WONDERLAND CHRISTMAS', 'WORDS HUNTER', 'WORST BANGER']\n",
            "223 ['AIRPLANE SIERRA', 'ALABAMA DEVIL', 'ALTER VICTORY', 'ANTHEM LUKE', 'APOLLO TEEN', 'ARACHNOPHOBIA ROLLERCOASTER', 'ARGONAUTS TOWN', 'ATTACKS HATE', 'ATTRACTION NEWTON', 'BACKLASH UNDEFEATED', 'BASIC EASY', 'BEETHOVEN EXORCIST', 'BERETS AGENT', 'BILKO ANONYMOUS', 'BINGO TALENTED', 'BLADE POLISH', 'BLINDNESS GUN', 'BRAVEHEART HUMAN', 'BREAKING HOME', 'BRIGHT ENCOUNTERS', 'BUTCH PANTHER', 'CASPER DRAGONFLY', 'CELEBRITY HORN', 'CHICAGO NORTH', 'CIRCUS YOUTH', 'CLEOPATRA DEVIL', 'CLOCKWORK PARADISE', 'CLUB GRAFFITI', 'CLYDE THEORY', 'COMMAND DARLING', 'CONFESSIONS MAGUIRE', 'CONFUSED CANDLES', 'CONGENIALITY QUEST', 'CONSPIRACY SPIRIT', 'CONTACT ANONYMOUS', 'CORE SUIT', 'CROOKED FROGMEN', 'CURTAIN VIDEOTAPE', 'DARES PLUTO', 'DARLING BREAKING', 'DAUGHTER MADIGAN', 'DEEP CRUSADE', 'DESTINATION JERK', 'DETECTIVE VISION', 'DIVIDE MONSTER', 'DOLLS RAGE', 'DRIFTER COMMANDMENTS', 'DRIVER ANNIE', 'DYNAMITE TARZAN', 'ELEPHANT TROJAN', 'ENGLISH BULWORTH', 'EVOLUTION ALTER', 'EXPECATIONS NATURAL', 'EYES DRIVING', 'FACTORY DRAGON', 'FALCON VOLUME', 'FANTASY TROOPERS', 'FEATHERS METAL', 'FLAMINGOS CONNECTICUT', 'FLINTSTONES HAPPINESS', 'FLOATS GARDEN', 'FREEDOM CLEOPATRA', 'FRONTIER CABIN', 'FURY MURDER', 'GAMES BOWFINGER', 'GANDHI KWAI', 'GANGS PRIDE', 'GATHERING CALENDAR', 'GLORY TRACY', 'GROUNDHOG UNCUT', 'GUNFIGHTER MUSSOLINI', 'HALF OUTFIELD', 'HALLOWEEN NUTS', 'HARRY IDAHO', 'HAWK CHILL', 'HOBBIT ALIEN', 'HOLIDAY GAMES', 'HOMICIDE PEACH', 'HOTEL HAPPINESS', 'HUNCHBACK IMPOSSIBLE', 'HUNTER ALTER', 'IDAHO LOVE', 'IDENTITY LOVER', 'IMAGE PRINCESS', 'IMPACT ALADDIN', 'INNOCENT USUAL', 'INTENTIONS EMPIRE', 'INTOLERABLE INTENTIONS', 'JACKET FRISCO', 'JINGLE SAGEBRUSH', 'JUGGLER HARDLY', 'KARATE MOON', 'KICK SAVANNAH', 'KISS GLORY', 'KNOCK WARLOCK', 'KWAI HOMEWARD', 'LABYRINTH LEAGUE', 'LAMBS CINCINATTI', 'LEAGUE HELLFIGHTERS', 'LEATHERNECKS DWARFS', 'LEBOWSKI SOLDIERS', 'LORD ARIZONA', 'LOST BIRD', 'LOUISIANA HARRY', 'LOVERBOY ATTACKS', 'LUCKY FLYING', 'MADNESS ATTACKS', 'MADRE GABLES', 'MAGNOLIA FORRESTER', 'MAKER GABLES', 'MALTESE HOPE', 'MANNEQUIN WORST', 'MASKED BUBBLE', 'MATRIX SNOWMAN', 'METAL ARMAGEDDON', 'METROPOLIS COMA', 'MICROCOSMOS PARADISE', 'MILLION ACE', 'MINDS TRUMAN', 'MINE TITANS', 'MIRACLE VIRTUAL', 'MISSION ZOOLANDER', 'MIXED DOORS', 'MOONSHINE CABIN', 'MOULIN WAKE', 'NAME DETECTIVE', 'NASH CHOCOLAT', 'NATURAL STOCK', 'NETWORK PEAK', 'NOTTING SPEAKEASY', 'OCTOBER SUBMARINE', 'ORANGE GRAPES', 'ORDER BETRAYED', 'OUTLAW HANKY', 'PACKER MADIGAN', 'PARADISE SABRINA', 'PARIS WEEKEND', 'PARK CITIZEN', 'PAST SUICIDES', 'PAYCHECK WAIT', 'PEACH INNOCENT', 'PERFECT GROOVE', 'PERSONAL LADYBUGS', 'PHILADELPHIA WIFE', 'PITTSBURGH HUNCHBACK', 'PLATOON INSTINCT', 'POND SEATTLE', 'POSEIDON FOREVER', 'PREJUDICE OLEANDER', 'PSYCHO SHRUNK', 'RAIDERS ANTITRUST', 'REAP UNFAITHFUL', 'REDS POCUS', 'REIGN GENTLEMEN', 'RESERVOIR ADAPTATION', 'RIDGEMONT SUBMARINE', 'RIGHT CRANES', 'RIVER OUTLAW', 'ROBBERS JOON', 'ROCKETEER MOTHER', 'ROCKY WAR', 'ROLLERCOASTER BRINGING', 'ROOTS REMEMBER', 'ROSES TREASURE', 'RUGRATS SHAKESPEARE', 'RUSHMORE MERMAID', 'SADDLE ANTITRUST', 'SAVANNAH TOWN', 'SCARFACE BANG', 'SCHOOL JACKET', 'SEATTLE EXPECATIONS', 'SHAKESPEARE SADDLE', 'SHOCK CABIN', 'SHOOTIST SUPERFLY', 'SHOW LORD', 'SHREK LICENSE', 'SINNERS ATLANTIS', 'SISTER FREDDY', 'SLEEPING SUSPECTS', 'SLIPPER FIDELITY', 'SMOKING BARBARELLA', 'SNATCHERS MONTEZUMA', 'SONG HEDWIG', 'SPEAKEASY DATE', 'SPEED SUIT', 'SPINAL ROCKY', 'SPIRITED CASUALTIES', 'SPY MILE', 'STALLION SUNDANCE', 'STREAK RIDGEMONT', 'STRICTLY SCARFACE', 'SUNRISE LEAGUE', 'SWARM GOLD', 'TARZAN VIDEOTAPE', 'TAXI KICK', 'TELEMARK HEARTBREAKERS', 'TENENBAUMS COMMAND', 'THEORY MERMAID', 'THIEF PELICAN', 'THIN SAGEBRUSH', 'TOURIST PELICAN', 'TRAINSPOTTING STRANGERS', 'TRANSLATION SUMMER', 'TREASURE COMMAND', 'TRIP NEWTON', 'UNCUT SUICIDES', 'UNDEFEATED DALMATIONS', 'USUAL UNTOUCHABLES', 'VALENTINE VANISHING', 'VICTORY ACADEMY', 'VIETNAM SMOOCHY', 'VILLAIN DESPERATE', 'VIRGIN DAISY', 'VISION TORQUE', 'VOICE PEACH', 'VOYAGE LEGALLY', 'WAIT CIDER', 'WANDA CHAMBER', 'WHALE BIKINI', 'WHISPERER GIANT', 'WORLD LEATHERNECKS', 'WRONG BEHAVIOR', 'WYOMING STORM']\n",
            "195 ['AIRPORT POLLOCK', 'ALONE TRIP', 'AMELIE HELLFIGHTERS', 'AMERICAN CIRCUS', 'ANACONDA CONFESSIONS', 'ANALYZE HOOSIERS', 'ANYTHING SAVANNAH', 'APOCALYPSE FLAMINGOS', 'ARMY FLINTSTONES', 'BADMAN DAWN', 'BANGER PINOCCHIO', 'BEAR GRACELAND', 'BEAST HUNCHBACK', 'BEVERLY OUTLAW', 'BOOGIE AMELIE', 'BOULEVARD MOB', 'BROOKLYN DESERT', 'BROTHERHOOD BLANKET', 'BUBBLE GROSSE', 'CAMPUS REMEMBER', 'CANDIDATE PERDITION', 'CANYON STOCK', 'CAUSE DATE', 'CHANCE RESURRECTION', 'CHARIOTS CONSPIRACY', 'CHOCOLATE DUCK', 'CLONES PINOCCHIO', 'CLOSER BANG', 'CLUELESS BUCKET', 'COMANCHEROS ENEMY', 'COMMANDMENTS EXPRESS', 'CONNECTICUT TRAMP', 'CONVERSATION DOWNHILL', 'CROSSING DIVORCE', 'CROWDS TELEMARK', 'CRUSADE HONEY', 'CUPBOARD SINNERS', 'DATE SPEED', 'DELIVERANCE MULHOLLAND', 'DESERT POSEIDON', 'DETAILS PACKER', 'DEVIL DESIRE', 'DINOSAUR SECRETARY', 'DISTURBING SCARFACE', 'DIVINE RESURRECTION', 'DOOM DANCING', 'DOUBLE WRATH', 'DOUBTFIRE LABYRINTH', 'DROP WATERFRONT', 'DURHAM PANKY', 'EARRING INSTINCT', 'ENTRAPMENT SATISFACTION', 'ESCAPE METROPOLIS', 'EXPRESS LONELY', 'FAMILY SWEET', 'FEUD FROGMEN', 'FEVER EMPIRE', 'FIDDLER LOST', 'FIGHT JAWBREAKER', 'FINDING ANACONDA', 'FIRE WOLVES', 'FISH OPUS', 'FLIGHT LIES', 'FORREST SONS', 'FREAKY POCUS', 'FRIDA SLIPPER', 'FROGMEN BREAKING', 'FUGITIVE MAGUIRE', 'GALAXY SWEETHEARTS', 'GHOSTBUSTERS ELF', 'GIANT TROOPERS', 'GILMORE BOILED', 'GO PURPLE', 'GOLD RIVER', 'GOLDMINE TYCOON', 'GONE TROUBLE', 'GORGEOUS BINGO', 'GRACELAND DYNAMITE', 'GREEDY ROOTS', 'GRINCH MASSAGE', 'GROSSE WONDERFUL', 'GUYS FALCON', 'HAMLET WISDOM', 'HANDICAP BOONDOCK', 'HARDLY ROBBERS', 'HAUNTING PIANIST', 'HEAD STRANGER', 'HIGH ENCINO', 'HIGHBALL POTTER', 'HOLOCAUST HIGHBALL', 'HOLY TADPOLE', 'HOME PITY', 'HOMEWARD CIDER', 'HONEY TIES', 'HORROR REIGN', 'HOUSE DYNAMITE', 'ICE CROSSING', 'ILLUSION AMELIE', 'INTERVIEW LIAISONS', 'ISHTAR ROCKETEER', 'JEEPERS WEDDING', 'JEOPARDY ENCINO', 'JET NEIGHBORS', 'KANE EXORCIST', 'KILLER INNOCENT', 'KISSING DOLLS', 'KRAMER CHOCOLATE', 'LIGHTS DEER', 'LOATHING LEGALLY', 'LOCK REAR', 'LOSE INCH', 'LOVE SUICIDES', 'MADIGAN DORADO', 'MADISON TRAP', 'MAGNIFICENT CHITTY', 'MASSACRE USUAL', 'MAUDE MOD', 'MOTHER OLEANDER', 'MUSIC BOONDOCK', 'NEIGHBORS CHARADE', 'OPUS ICE', 'ORIENT CLOSER', 'OZ LIAISONS', 'PAJAMA JAWBREAKER', 'PLUTO OLEANDER', 'PRIX UNDEFEATED', 'PURPLE MOVIE', 'QUEST MUSSOLINI', 'QUILLS BULL', 'RAGE GAMES', 'RAGING AIRPLANE', 'REMEMBER DIARY', 'REQUIEM TYCOON', 'REUNION WITCHES', 'ROAD ROXANNE', 'ROBBERY BRIGHT', 'ROOF CHAMPION', 'ROXANNE REBEL', 'RULES HUMAN', 'RUN PACIFIC', 'SALUTE APOLLO', 'SATURN NAME', 'SENSE GREEK', 'SEVEN SWARM', 'SHEPHERD MIDSUMMER', 'SHIP WONDERLAND', 'SHRUNK DIVINE', 'SIEGE MADRE', 'SILENCE KANE', 'SLACKER LIAISONS', 'SLING LUKE', 'SMOOCHY CONTROL', 'SOLDIERS EVOLUTION', 'SOUP WISDOM', 'SOUTH WAIT', 'SPIRIT FLINTSTONES', 'SPLENDOR PATTON', 'STAGECOACH ARMAGEDDON', 'STAMPEDE DISTURBING', 'STORY SIDE', 'STRAIGHT HOURS', 'STRANGERS GRAFFITI', 'STREETCAR INTENTIONS', 'SUBMARINE BED', 'SUIT WALLS', 'SUN CONFESSIONS', 'SWEET BROTHERHOOD', 'TERMINATOR CLUB', 'TIES HUNGER', 'TIGHTS DAWN', 'TITANIC BOONDOCK', 'TOMORROW HUSTLER', 'TOWN ARK', 'TRAIN BUNCH', 'TROOPERS METAL', 'TUXEDO MILE', 'UNFAITHFUL KILL', 'UNITED PILOT', 'VACATION BOONDOCK', 'VANISHED GARDEN', 'VELVET TERMINATOR', 'VERTIGO NORTHWEST', 'VIRGINIAN PLUTO', 'WASH HEAVENLY', 'WEEKEND PERSONAL', 'WILD APOLLO', 'WILLOW TRACY', 'WIND PHANTOM', 'WINDOW SIDE', 'WISDOM WORKER', 'WOMEN DORADO', 'WORKER TARZAN', 'WORKING MICROCOSMOS', 'YENTL IDAHO', 'ZOOLANDER FICTION']\n",
            "210 ['ADAPTATION HOLES', 'ALADDIN CALENDAR', 'ALICE FANTASIA', 'ALIEN CENTER', 'ALLEY EVOLUTION', 'ANONYMOUS HUMAN', 'ANTITRUST TOMATOES', 'APACHE DIVINE', 'ARABIA DOGMA', 'ARK RIDGEMONT', 'ARTIST COLDBLOODED', 'BABY HALL', 'BALLOON HOMEWARD', 'BANG KWAI', 'BED HIGHBALL', 'BENEATH RUSH', 'BETRAYED REAR', 'BIKINI BORROWERS', 'BIRDCAGE CASPER', 'BOONDOCK BALLROOM', 'BOWFINGER GABLES', 'BULL SHAWSHANK', 'CABIN FLASH', 'CADDYSHACK JEDI', 'CALENDAR GUNFIGHT', 'CALIFORNIA BIRDS', 'CAMELOT VACATION', 'CANDLES GRAPES', 'CARIBBEAN LIBERTY', 'CASSIDY WYOMING', 'CHAMBER ITALIAN', 'CHAPLIN LICENSE', 'CHOCOLAT HARRY', 'CHRISTMAS MOONSHINE', 'CINCINATTI WHISPERER', 'CLUE GRAIL', 'COMA HEAD', 'COMFORTS RUSH', 'CONEHEADS SMOOCHY', 'CONFIDENTIAL INTERVIEW', 'CRAFT OUTFIELD', 'CRANES RESERVOIR', 'CREATURES SHAKESPEARE', 'CREEPERS KANE', 'CRYSTAL BREAKING', 'DANCES NONE', 'DARKNESS WAR', 'DARKO DORADO', 'DECEIVER BETRAYED', 'DEER VIRGINIAN', 'DESIRE ALIEN', 'DIRTY ACE', 'DONNIE ALLEY', 'DOORS PRESIDENT', 'DORADO NOTTING', 'DOZEN LION', 'DRAGON SQUAD', 'DRAGONFLY STRANGERS', 'DRIVING POLISH', 'DUCK RACER', 'DUMBO LUST', 'EAGLES PANKY', 'EARLY HOME', 'EARTH VISION', 'EDGE KISSING', 'ELEMENT FREDDY', 'ELF MURDER', 'ELIZABETH SHANE', 'ENCOUNTERS CURTAIN', 'ENDING CROWDS', 'ENEMY ODDS', 'ENOUGH RAGING', 'FELLOWSHIP AUTUMN', 'FLASH WARS', 'FLYING HOOK', 'FOREVER CANDIDATE', 'FORRESTER COMANCHEROS', 'FORWARD TEMPLE', 'FRANKENSTEIN STRANGER', 'FREDDY STORM', 'GENTLEMEN STAGE', 'GLEAMING JAWBREAKER', 'GODFATHER DIARY', 'GRAIL FRANKENSTEIN', 'GREATEST NORTH', 'GROOVE FICTION', 'GUMP DATE', 'GUNFIGHT MOON', 'HALL CASSIDY', 'HANKY OCTOBER', 'HANOVER GALAXY', 'HAROLD FRENCH', 'HAUNTED ANTITRUST', 'HEAVENLY GUN', 'HEDWIG ALTER', 'HOLLOW JEOPARDY', 'HOPE TOOTSIE', 'HOURS RAGE', 'HUMAN GRAFFITI', 'HUNTING MUSKETEERS', 'HUSTLER PARTY', 'IDOLS SNATCHERS', 'IGBY MAKER', 'IMPOSSIBLE PREJUDICE', 'INCH JET', 'INDEPENDENCE HOTEL', 'INDIAN LOVE', 'INFORMER DOUBLE', 'INSECTS STONE', 'INSIDER ARIZONA', 'ISLAND EXORCIST', 'JADE BUNCH', 'JASON TRAP', 'JERICHO MULAN', 'JERK PAYCHECK', 'JOON NORTHWEST', 'JUMPING WRATH', 'JUNGLE CLOSER', 'KING EVOLUTION', 'LADYBUGS ARMAGEDDON', 'LANGUAGE COWBOY', 'LAWRENCE LOVE', 'LESSON CLEOPATRA', 'LICENSE WEEKEND', 'LIES TREATMENT', 'LIFE TWISTED', 'LOLITA WORLD', 'LUCK OPUS', 'LUKE MUMMY', 'MAGUIRE APACHE', 'MARS ROMAN', 'MASK PEACH', 'MEMENTO ZOOLANDER', 'MERMAID INSECTS', 'MOD SECRETARY', 'MODEL FISH', 'MONTEZUMA COMMAND', 'MUMMY CREATURES', 'MYSTIC TRUMAN', 'NATIONAL STORY', 'NEMO CAMPUS', 'NONE SPIKING', 'NORTH TEQUILA', 'NOTORIOUS REUNION', 'NUTS TIES', 'ODDS BOOGIE', 'OUTBREAK DIVINE', 'OUTFIELD MASSACRE', 'PANTHER REDS', 'PATIENT SISTER', 'PEARL DESTINY', 'PERDITION FARGO', 'PHANTOM GLORY', 'PIANIST OUTFIELD', 'PITY BOUND', 'PIZZA JUMANJI', 'POCUS PULP', 'PRIDE ALAMO', 'PRINCESS GIANT', 'PURE RUNNER', 'RACER EGG', 'RANDOM GO', 'REAR TRADING', 'REDEMPTION COMFORTS', 'REEF SALUTE', 'ROMAN PUNK', 'ROUGE SQUAD', 'RUNAWAY TENENBAUMS', 'RUNNER MADIGAN', 'SCALAWAG DUCK', 'SCORPION APOLLO', 'SEABISCUIT PUNK', 'SEARCHERS WAIT', 'SIERRA DIVIDE', 'SIMON NORTH', 'SLEUTH ORIENT', 'SOMETHING DUCK', 'SONS INTERVIEW', 'SORORITY QUEEN', 'SPARTACUS CHEAPER', 'SPICE SORORITY', 'STATE WASTELAND', 'STEEL SANTA', 'STEPMOM DREAM', 'STING PERSONAL', 'STORM HAPPINESS', 'STRANGELOVE DESIRE', 'SUNDANCE INVASION', 'SUNSET RACER', 'TEXAS WATCH', 'TOWERS HURRICANE', 'UNTOUCHABLES SUNRISE', 'UPRISING UPTOWN', 'VAMPIRE WHALE', 'VANILLA DAY', 'VANISHING ROCKY', 'VARSITY TRIP', 'VIDEOTAPE ARSENIC', 'VIRTUAL SPOILERS', 'VOLCANO TEXAS', 'WESTWARD SEABISCUIT', 'WIFE TURN', 'WITCHES PANIC', 'WOLVES DESIRE', 'WONDERFUL DROP', 'WONKA SEA', 'WRATH MILE', 'YOUTH KICK', 'ZHIVAGO CORE', 'ZORRO ARK']\n"
          ]
        }
      ]
    },
    {
      "cell_type": "code",
      "source": [
        "from random import random, randint\n",
        "\n",
        "lista_20 = []\n",
        "for i in range(1,21):\n",
        "  lista_20.append(randint(20,50000))\n",
        "\n",
        "maximo = max(lista_20)\n",
        "indice = (lista_20.index(maximo))\n",
        "print(maximo, indice)"
      ],
      "metadata": {
        "colab": {
          "base_uri": "https://localhost:8080/"
        },
        "id": "3aAhtRUYzew3",
        "outputId": "2d76a952-1545-48a5-895c-24cb6698e346"
      },
      "execution_count": null,
      "outputs": [
        {
          "output_type": "stream",
          "name": "stdout",
          "text": [
            "47890 17\n"
          ]
        }
      ]
    },
    {
      "cell_type": "markdown",
      "source": [
        "# Tuplas\n",
        "\n",
        "las tuplas son estáticas"
      ],
      "metadata": {
        "id": "YJHVMKA1N304"
      }
    },
    {
      "cell_type": "code",
      "source": [
        "mi_tupla = (3, 'hola')\n",
        "mi_tupla"
      ],
      "metadata": {
        "colab": {
          "base_uri": "https://localhost:8080/"
        },
        "id": "T7JGdmIxN25b",
        "outputId": "3840695f-d541-478d-870f-1d9426ed45be"
      },
      "execution_count": null,
      "outputs": [
        {
          "output_type": "execute_result",
          "data": {
            "text/plain": [
              "(3, 'hola')"
            ]
          },
          "metadata": {},
          "execution_count": 59
        }
      ]
    },
    {
      "cell_type": "code",
      "source": [
        "print(mi_tupla.index(3))\n"
      ],
      "metadata": {
        "colab": {
          "base_uri": "https://localhost:8080/"
        },
        "id": "JgsXGy2vOLgd",
        "outputId": "cd390d85-08c5-4a41-eb38-87535bf4a812"
      },
      "execution_count": null,
      "outputs": [
        {
          "output_type": "stream",
          "name": "stdout",
          "text": [
            "0\n"
          ]
        }
      ]
    },
    {
      "cell_type": "markdown",
      "source": [
        "# Conjuntos\n",
        "No permite elementos repetidos"
      ],
      "metadata": {
        "id": "mf2gJOkyOk6m"
      }
    },
    {
      "cell_type": "code",
      "source": [
        "mi_set = ('Hola', 'Hola', 3, 3, 2, 21,True, True , 'el Quijote')\n",
        "convertido = set(mi_set)\n",
        "convertido"
      ],
      "metadata": {
        "colab": {
          "base_uri": "https://localhost:8080/"
        },
        "id": "M8idjUFQOrcb",
        "outputId": "f074f2c5-109b-46c1-9341-53c136df11ab"
      },
      "execution_count": null,
      "outputs": [
        {
          "output_type": "execute_result",
          "data": {
            "text/plain": [
              "{2, 21, 3, 'Hola', True, 'el Quijote'}"
            ]
          },
          "metadata": {},
          "execution_count": 63
        }
      ]
    },
    {
      "cell_type": "code",
      "source": [
        "palabra = ['abracadabra', 'Eder', 'abracadabra']\n",
        "newpalabra = set(palabra)\n",
        "print(newpalabra)\n",
        "newlista = list(newpalabra)\n",
        "print(newlista)"
      ],
      "metadata": {
        "colab": {
          "base_uri": "https://localhost:8080/"
        },
        "id": "kvXaqKxXPQ87",
        "outputId": "24ed9cc2-a163-48e3-93bd-c2cb026dc934"
      },
      "execution_count": null,
      "outputs": [
        {
          "output_type": "stream",
          "name": "stdout",
          "text": [
            "{'Eder', 'abracadabra'}\n",
            "['Eder', 'abracadabra']\n"
          ]
        }
      ]
    },
    {
      "cell_type": "code",
      "source": [
        "palabra = ['abracadabra', 'Eder', 'abracadabra']\n",
        "newpalabra = set(palabra)\n",
        "print(newpalabra)"
      ],
      "metadata": {
        "colab": {
          "base_uri": "https://localhost:8080/"
        },
        "id": "hF_HqnzaSFdp",
        "outputId": "025d145e-ee5d-4297-971e-f55deb2b4161"
      },
      "execution_count": null,
      "outputs": [
        {
          "output_type": "stream",
          "name": "stdout",
          "text": [
            "{'Eder', 'abracadabra'}\n"
          ]
        }
      ]
    },
    {
      "cell_type": "code",
      "source": [
        "another_set = {'patasdecabra', 'Eder', 'Lara'}\n",
        "print(another_set)\n",
        "# hacer a union b\n",
        "print(newpalabra.union(another_set))"
      ],
      "metadata": {
        "colab": {
          "base_uri": "https://localhost:8080/"
        },
        "id": "3vz7SeBwSHq1",
        "outputId": "fa2b5cb9-8d6f-46a2-870f-0d405647ac10"
      },
      "execution_count": null,
      "outputs": [
        {
          "output_type": "stream",
          "name": "stdout",
          "text": [
            "{'Lara', 'Eder', 'patasdecabra'}\n",
            "{'Eder', 'Lara', 'abracadabra', 'patasdecabra'}\n"
          ]
        }
      ]
    },
    {
      "cell_type": "markdown",
      "source": [
        "# Diccionarios:\n",
        "1. No son JSON\n",
        "2. Usan clave valor donde la clave puede ser cualquier tipo de dato\n"
      ],
      "metadata": {
        "id": "fjX5sGcUPmJq"
      }
    },
    {
      "cell_type": "code",
      "source": [],
      "metadata": {
        "id": "jtvm2gXNRRm6"
      },
      "execution_count": null,
      "outputs": []
    },
    {
      "cell_type": "code",
      "source": [
        "diccionario = {\n",
        "    'clave' : 'valor',\n",
        "    'nombre' : 'Juan',\n",
        "    3: 'Texto'\n",
        "}\n",
        "\n",
        "print(diccionario)"
      ],
      "metadata": {
        "colab": {
          "base_uri": "https://localhost:8080/"
        },
        "id": "ohy8Fs7JPzDa",
        "outputId": "03e84f7d-8743-48aa-dd44-ce6f1645e9c7"
      },
      "execution_count": null,
      "outputs": [
        {
          "output_type": "stream",
          "name": "stdout",
          "text": [
            "{'clave': 'valor', 'nombre': 'Juan', 3: 'Texto'}\n"
          ]
        }
      ]
    },
    {
      "cell_type": "code",
      "source": [
        "diccionario['nickname'] = 'apodito'\n",
        "print(diccionario)"
      ],
      "metadata": {
        "colab": {
          "base_uri": "https://localhost:8080/"
        },
        "id": "2u5dU8wnSxnl",
        "outputId": "7fb38a39-08d3-4af2-f6fa-c15bcdebd5c2"
      },
      "execution_count": null,
      "outputs": [
        {
          "output_type": "stream",
          "name": "stdout",
          "text": [
            "{'clave': 'valor', 'nombre': 'Juan', 3: 'Texto', 'nickname': 'apodito'}\n"
          ]
        }
      ]
    },
    {
      "cell_type": "code",
      "source": [
        "diccionario['nickname'] = 'la chapa'\n",
        "print(diccionario)"
      ],
      "metadata": {
        "colab": {
          "base_uri": "https://localhost:8080/"
        },
        "id": "fEn1XM72S_fL",
        "outputId": "2f1f6bbc-0818-4fab-bfcf-2fc222ab33fb"
      },
      "execution_count": null,
      "outputs": [
        {
          "output_type": "stream",
          "name": "stdout",
          "text": [
            "{'clave': 'valor', 'nombre': 'Juan', 3: 'Texto', 'nickname': 'la chapa'}\n"
          ]
        }
      ]
    },
    {
      "cell_type": "code",
      "source": [
        "# buscar un valor en el diccionario:\n",
        "print(diccionario.get(3))"
      ],
      "metadata": {
        "colab": {
          "base_uri": "https://localhost:8080/"
        },
        "id": "BjfRGN12TaGU",
        "outputId": "5f5f2827-51d9-4faf-b55a-f1d3d5064dc5"
      },
      "execution_count": null,
      "outputs": [
        {
          "output_type": "stream",
          "name": "stdout",
          "text": [
            "Texto\n"
          ]
        }
      ]
    },
    {
      "cell_type": "code",
      "source": [
        "# Ciclos en un diccionario:\n",
        "for clave, valor in diccionario.items():\n",
        "  print(clave, valor)"
      ],
      "metadata": {
        "colab": {
          "base_uri": "https://localhost:8080/"
        },
        "id": "wLOQIL9RUBXq",
        "outputId": "c78d09f0-06ec-4d6a-afbd-580f1c100b5b"
      },
      "execution_count": null,
      "outputs": [
        {
          "output_type": "stream",
          "name": "stdout",
          "text": [
            "clave valor\n",
            "nombre Juan\n",
            "3 Texto\n",
            "nickname la chapa\n"
          ]
        }
      ]
    },
    {
      "cell_type": "code",
      "source": [
        "# Crear un diccionario con los datos básicos de un usuario:\n",
        "usuario = {}\n",
        "usuario[\"nombre\"] = input(\"ingrese su nombre\")\n",
        "usuario[\"edad\"] = input(\"ingrese su edad\")\n",
        "usuario[\"ciudad\"] = input(\"ingrese su ciudad\")\n",
        "\n",
        "# Imprimir el diccionario:\n",
        "print(usuario)"
      ],
      "metadata": {
        "colab": {
          "base_uri": "https://localhost:8080/"
        },
        "id": "313yVi9zVBqj",
        "outputId": "162c7454-c585-414c-88bf-5fcee825bac6"
      },
      "execution_count": null,
      "outputs": [
        {
          "output_type": "stream",
          "name": "stdout",
          "text": [
            "ingrese su nombreEder\n",
            "ingrese su edad42\n",
            "ingrese su ciudad\n",
            "{'nombre': 'Eder', 'edad': '42', 'ciudad': ''}\n"
          ]
        }
      ]
    },
    {
      "cell_type": "markdown",
      "source": [
        "# Funciones\n",
        "\n",
        "Una función es una estructura de código que está diseñado para elaborar una tarea especifica."
      ],
      "metadata": {
        "id": "PwBTMBB56HQa"
      }
    },
    {
      "cell_type": "code",
      "source": [
        "from datetime import datetime, date\n",
        "def miFuncion():\n",
        "  ahora = date.today()\n",
        "  print(f'La fecha actual es: {ahora}')"
      ],
      "metadata": {
        "id": "v4d357yzVFq_"
      },
      "execution_count": null,
      "outputs": []
    },
    {
      "cell_type": "code",
      "source": [
        "miFuncion()"
      ],
      "metadata": {
        "colab": {
          "base_uri": "https://localhost:8080/"
        },
        "id": "Pzxf2A7J7Qb4",
        "outputId": "74057b56-6bd7-4c9e-96b9-59c7aa0d94e4"
      },
      "execution_count": null,
      "outputs": [
        {
          "output_type": "stream",
          "name": "stdout",
          "text": [
            "La fecha y hora actual es: 2025-03-07\n"
          ]
        }
      ]
    },
    {
      "cell_type": "code",
      "source": [
        "def calculadora(a,b,operacion):\n",
        "  if operacion == '+':\n",
        "    suma = a + b\n",
        "    resultado = suma\n",
        "  if operacion == '-':\n",
        "    if a > b:\n",
        "      resta = a - b\n",
        "      resultado = resta\n",
        "    else:\n",
        "      resta = b - a\n",
        "      resultado = resta\n",
        "  if operacion == '*':\n",
        "    multiplicacion = a * b\n",
        "    resultado = multiplicacion\n",
        "  if operacion == '/':\n",
        "    if a > b:\n",
        "      division = a / b\n",
        "      resultado = division\n",
        "    else:\n",
        "      division = b / a\n",
        "      resultado = division\n",
        "  return resultado"
      ],
      "metadata": {
        "id": "5AIVj5cR8HYh"
      },
      "execution_count": null,
      "outputs": []
    },
    {
      "cell_type": "code",
      "source": [
        "calculadora(4,3,'+')"
      ],
      "metadata": {
        "colab": {
          "base_uri": "https://localhost:8080/"
        },
        "id": "I8KExPmJ_oAj",
        "outputId": "8c40fe60-a18d-4acf-c4cc-f7f2f8a778b5"
      },
      "execution_count": null,
      "outputs": [
        {
          "output_type": "execute_result",
          "data": {
            "text/plain": [
              "7"
            ]
          },
          "metadata": {},
          "execution_count": 24
        }
      ]
    },
    {
      "cell_type": "code",
      "source": [
        "print(f'--------------------- Operaciones Aritméticas Con 2 Números ---------------------')\n",
        "while True:\n",
        "  operador = input(f'¿Qué operación Realizaremos hoy? (+, -, *, /) : ')\n",
        "  if operador != '+' and operador != '-' and operador != '*' and operador != '/':\n",
        "    print(f'La operación {operador} no es válida')\n",
        "  else:\n",
        "    num1 = int(input(f'Ingrese el pimer Número: '))\n",
        "    num2 = int(input(f'Ingrese el segundo Número: '))\n",
        "    if type(num1) == int and type(num2) == int:\n",
        "      resultado = calculadora(num1,num2,operador)\n",
        "      if operador == '+':\n",
        "        operador = 'suma'\n",
        "      if operador == '-':\n",
        "        operador = 'resta'\n",
        "      if operador == '*':\n",
        "        operador = 'multiplicación'\n",
        "      if operador == '/':\n",
        "        operador = 'división'\n",
        "      print(f'El resultado de la operación {operador}, es: {resultado}')\n",
        "      break\n"
      ],
      "metadata": {
        "colab": {
          "base_uri": "https://localhost:8080/"
        },
        "id": "lLqbFEAO9Lmz",
        "outputId": "4796fc83-a042-4723-a7fb-527fc51f9a29"
      },
      "execution_count": null,
      "outputs": [
        {
          "output_type": "stream",
          "name": "stdout",
          "text": [
            "--------------------- Operaciones Aritméticas Con 2 Números ---------------------\n",
            "¿Qué operación Realizaremos hoy? (+, -, *, /) : /\n",
            "Ingrese el pimer Número: 456729\n",
            "Ingrese el segundo Número: 4\n",
            "El resultado de la operación división, es: 114182.25\n"
          ]
        }
      ]
    },
    {
      "cell_type": "code",
      "source": [
        "def operarListas(lista, operacion):\n",
        "  tamano_lista = len(lista)\n",
        "  if operacion == '+':\n",
        "    suma = sum(lista)\n",
        "    return suma\n",
        "  if operacion == '-':\n",
        "    resta = 0\n",
        "    for i in range(tamano_lista):\n",
        "      if i == 0:\n",
        "        resta = lista[i]\n",
        "      else:\n",
        "        resta = resta - lista[i]\n",
        "    return resta\n",
        "    if operacion == '**2':\n",
        "      multiplicacion = 1\n",
        "      for i in range(tamano_lista):\n",
        "        multiplicacion = i**2\n",
        "      return multiplicacion"
      ],
      "metadata": {
        "id": "d9rp66s-Aj_W"
      },
      "execution_count": null,
      "outputs": []
    },
    {
      "cell_type": "code",
      "source": [
        "def mayorLista(lista):\n",
        "  mayor = max(lista)\n",
        "  return mayor\n",
        "\n",
        "def indiceLista(valor, lista):\n",
        "  indice = lista.index(valor)\n",
        "  return indice"
      ],
      "metadata": {
        "id": "dKLanfEUBqwv"
      },
      "execution_count": null,
      "outputs": []
    },
    {
      "cell_type": "code",
      "source": [
        "from random import random, randint\n",
        "def main():\n",
        "  print('--- Aplicación para buscar el Mayor y su indice de una lista --')\n",
        "  longitud = int(input('Ingrese la logitud de la lista: '))\n",
        "  lista = []\n",
        "  for i in range(longitud):\n",
        "    lista.append(randint(1,1000000))\n",
        "\n",
        "  max_lista = mayorLista(lista)\n",
        "  idx_lista = indiceLista(max_lista,lista)\n",
        "\n",
        "  print(f'La lista esta constituida así: {lista}')\n",
        "  print(f'El valor máximo de la lista es {max_lista} y su indice se encuentra en {idx_lista}')"
      ],
      "metadata": {
        "id": "sbN8dey4FInk"
      },
      "execution_count": null,
      "outputs": []
    },
    {
      "cell_type": "code",
      "source": [
        "main()"
      ],
      "metadata": {
        "colab": {
          "base_uri": "https://localhost:8080/"
        },
        "id": "zlqJxCI8GihL",
        "outputId": "15962781-9fce-44cc-a2f2-fa9ccd6454a4"
      },
      "execution_count": null,
      "outputs": [
        {
          "output_type": "stream",
          "name": "stdout",
          "text": [
            "--- Aplicación para buscar el Mayor y su indice de una lista --\n",
            "Ingrese la logitud de la lista: 5\n",
            "La lista esta constituida así: [325014, 159506, 18939, 805969, 27854]\n",
            "El valor máximo de la lista es 805969 y su indice se encuentra en 3\n"
          ]
        }
      ]
    },
    {
      "cell_type": "code",
      "source": [
        "# Función para secuencia fibonnaci:\n",
        "def fibo(n):\n",
        "  if n <= 1:\n",
        "    return n\n",
        "  else:\n",
        "    return fibo(n-1) + fibo(n-2)"
      ],
      "metadata": {
        "id": "A9i4SwvTKsjD"
      },
      "execution_count": null,
      "outputs": []
    },
    {
      "cell_type": "code",
      "source": [
        "def verFibo(valor):\n",
        "  for i in range(valor):\n",
        "    ver = fibo(i)\n",
        "    print(ver)"
      ],
      "metadata": {
        "id": "L5m5NgVLK7bp"
      },
      "execution_count": null,
      "outputs": []
    },
    {
      "cell_type": "code",
      "source": [
        "verFibo(10)"
      ],
      "metadata": {
        "colab": {
          "base_uri": "https://localhost:8080/"
        },
        "id": "OCk9cuITLGI6",
        "outputId": "ff2a97b3-f229-433f-de85-c0a1e45d4f57"
      },
      "execution_count": null,
      "outputs": [
        {
          "output_type": "stream",
          "name": "stdout",
          "text": [
            "0\n",
            "1\n",
            "1\n",
            "2\n",
            "3\n",
            "5\n",
            "8\n",
            "13\n",
            "21\n",
            "34\n"
          ]
        }
      ]
    },
    {
      "cell_type": "markdown",
      "source": [
        "![Modelo Concesionario.png](data:image/png;base64,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)"
      ],
      "metadata": {
        "id": "q40HRMzGUWg4"
      }
    },
    {
      "cell_type": "code",
      "source": [
        "\"\"\"\n",
        "  Resolver el siguientes ejercicio:\n",
        "\n",
        "  Suponer el siguiente sistema de información Adjunto en la imagen,\n",
        "  Realizar el proceso de captura de información de venta,\n",
        "  basado en el modelo de usuario: Cliente, Vendedor, Automovil\n",
        "  e imprimir un reporte de ventas, y la factura de una venta.\n",
        "\"\"\""
      ],
      "metadata": {
        "colab": {
          "base_uri": "https://localhost:8080/",
          "height": 106
        },
        "id": "aToUYb_iTvWH",
        "outputId": "9b212a8d-d1eb-482d-ebd8-ab26f118ad30"
      },
      "execution_count": null,
      "outputs": [
        {
          "output_type": "error",
          "ename": "SyntaxError",
          "evalue": "incomplete input (<ipython-input-48-076ebed02562>, line 1)",
          "traceback": [
            "\u001b[0;36m  File \u001b[0;32m\"<ipython-input-48-076ebed02562>\"\u001b[0;36m, line \u001b[0;32m1\u001b[0m\n\u001b[0;31m    \"\"\"\u001b[0m\n\u001b[0m    ^\u001b[0m\n\u001b[0;31mSyntaxError\u001b[0m\u001b[0;31m:\u001b[0m incomplete input\n"
          ]
        }
      ]
    },
    {
      "cell_type": "code",
      "source": [
        "# Solución:\n",
        "\"\"\" Capturamos la información de base:\n",
        "    Lista de clientes\n",
        "      un cliente se aloja en una lista [[],[],[],[]]\n",
        "    Lista de vendedores\n",
        "      un vendedor se aloja en una lista [[],[],[],[]]\n",
        "    Lista de autos\n",
        "      un auto se aloja en una lista [[],[],[],[]]\n",
        "    Lista de ventas\n",
        "      una venta se aloja en una lista [[],[],[],[]]\n",
        "\n",
        "    funcion guardarCliente, funcion agregarCliente\n",
        "    funcion guardarVendedor, funcion agregarVendedor\n",
        "    funcion guardarAuto, funcion agregarAuto\n",
        "    funcion guardarVenta, funcion agregarVenta\n",
        "    funcion imprimeFactura(venta), funcion imprimeReporte(ventas)\n",
        "\"\"\"\n",
        "\n",
        "vendedor = []\n",
        "auto = []\n",
        "venta = []\n",
        "\n",
        "def agregarCliente(cliente):\n",
        "  clientes = []\n",
        "  clientes.append(cliente)\n",
        "  return\n",
        "\n",
        "def guardarCliente():\n",
        "  cliente = []\n",
        "  nombre = input(\"Ingrese el nombre del cliente: \")\n",
        "  apellido = input(\"Ingrese el apellido del cliente: \")\n",
        "  dni = input(\"Ingrese el dni del cliente: \"\n",
        "  cliente.append(nombre)\n",
        "  cliente.append(apellido)\n",
        "  cliente.append(dni)\n",
        "\n",
        "  agregarCliente(cliente)\n",
        "\n",
        "  return cliente"
      ],
      "metadata": {
        "id": "GxRYDcskTzK1"
      },
      "execution_count": null,
      "outputs": []
    }
  ]
}